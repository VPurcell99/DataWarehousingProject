{
 "cells": [
  {
   "cell_type": "markdown",
   "source": [
    "# Team 5 Purchase History Summary #\r\n",
    "Data Warehousing - Fall 21\r\n",
    "\r\n",
    "Team 5: Vince Purcell, Brandon Mondile"
   ],
   "metadata": {}
  },
  {
   "cell_type": "code",
   "execution_count": 1,
   "source": [
    "import csv\r\n",
    "from decimal import Decimal\r\n",
    "import random\r\n",
    "import datetime\r\n",
    "from datetime import date\r\n",
    "from collections import Counter\r\n",
    "import sqlite3 as lite"
   ],
   "outputs": [],
   "metadata": {}
  },
  {
   "cell_type": "markdown",
   "source": [
    "## Create Table with SKUs and Item names ##\r\n",
    "This table will be used for item name lookup by SKU"
   ],
   "metadata": {}
  },
  {
   "cell_type": "code",
   "execution_count": 2,
   "source": [
    "csv.register_dialect('piper', delimiter= '|', quoting = csv.QUOTE_NONE)\r\n",
    "\r\n",
    "con = lite.connect(r'grocery_store.db')\r\n",
    "\r\n",
    "cur = con.cursor()\r\n",
    "\r\n",
    "cur.execute('drop table if exists itemLookup')\r\n",
    "cur.execute('create Table itemLookup(itemstr TEXT, sku INT)')\r\n",
    "\r\n",
    "with open('Products1.txt', 'r') as csvfile:\r\n",
    "    for row in csv.DictReader(csvfile, dialect= 'piper'):\r\n",
    "        sku = int(row['SKU'])\r\n",
    "        itemstr = str(row['Manufacturer']) + \" \" + str(row['Product Name']) + \" (\" + str(row['itemType']) + \")\"\r\n",
    "        try:\r\n",
    "            cur.execute(\"INSERT INTO itemLookup VALUES (?,?)\",\r\n",
    "                        (itemstr, sku))\r\n",
    "        except lite.OperationalError as err:\r\n",
    "            print(\"insert error: %s\", err)\r\n",
    "            break\r\n",
    "\r\n",
    "con.commit()\r\n",
    "con.close()      "
   ],
   "outputs": [],
   "metadata": {}
  },
  {
   "cell_type": "markdown",
   "source": [
    "## Create Table of Purchase History CSV produced from Leonchuk code ##\r\n",
    "SQLite database with Date, Customer ID, SKU, and Sale price for generated sales"
   ],
   "metadata": {}
  },
  {
   "cell_type": "code",
   "execution_count": 3,
   "source": [
    "con = lite.connect(r'grocery_store.db')\r\n",
    "\r\n",
    "cur = con.cursor()\r\n",
    "\r\n",
    "cur.execute('drop table if exists purchaseHistory')\r\n",
    "cur.execute('create Table purchaseHistory(date TEXT, customer_id INT, sku INT, sale_price TEXT)')\r\n",
    "count = 1\r\n",
    "customer_count = 0\r\n",
    "curr_id = '0'\r\n",
    "with open('PurchaseHistory.csv', newline='') as csvfile:\r\n",
    "    reader = csv.DictReader(csvfile)\r\n",
    "    for row in reader:\r\n",
    "\r\n",
    "        prev_id = curr_id\r\n",
    "        curr_id = row['customer_id']\r\n",
    "        if prev_id != curr_id:\r\n",
    "            customer_count = customer_count + 1\r\n",
    "\r\n",
    "        if ((count % 20000)==0):\r\n",
    "            con.commit()\r\n",
    "        price = row['sale_price']\r\n",
    "\r\n",
    "        if price[0] == '$':\r\n",
    "            price = price[1:]\r\n",
    "            \r\n",
    "        try:\r\n",
    "            cur.execute(\"INSERT INTO purchaseHistory VALUES (?,?,?,?)\",\r\n",
    "                        (str(row['date']), int(row['customer_id']), int(row['sku']), str(price)))\r\n",
    "            count = count + 1\r\n",
    "        except lite.OperationalError as err:\r\n",
    "            print(\"insert error: %s\", err)\r\n",
    "            break\r\n",
    "\r\n",
    "con.commit()\r\n",
    "con.close() "
   ],
   "outputs": [],
   "metadata": {}
  },
  {
   "cell_type": "markdown",
   "source": [
    "## Count Total Customers and Sales ##"
   ],
   "metadata": {}
  },
  {
   "cell_type": "code",
   "execution_count": 4,
   "source": [
    "con = lite.connect(r'grocery_store.db')\r\n",
    "cur = con.cursor()\r\n",
    "s = 'select count(customer_id) from purchaseHistory'\r\n",
    "cur.execute(s)\r\n",
    "query = cur.fetchall()\r\n",
    "total_items = query[0][0]\r\n",
    "con.close()"
   ],
   "outputs": [],
   "metadata": {}
  },
  {
   "cell_type": "markdown",
   "source": [
    "## Get count of most common SKUs and print summary ##"
   ],
   "metadata": {}
  },
  {
   "cell_type": "code",
   "execution_count": 5,
   "source": [
    "print(\"Summary\\n----------------------------------------------------\")\r\n",
    "print(\"Customer Count and Total Sales: \" + str(customer_count) + \"\\n\")\r\n",
    "print(\"Total items bought: \" + str(total_items) + \"\\n\")\r\n",
    "\r\n",
    "con = lite.connect(r'grocery_store.db')\r\n",
    "cur = con.cursor()\r\n",
    "s = 'select count(sku) as cnt1, sku from purchaseHistory group by sku order by cnt1 DESC limit 10'\r\n",
    "cur.execute(s)\r\n",
    "rows = cur.fetchall()\r\n",
    "print(\"Most Popular Items by SKU\")\r\n",
    "print('Count - SKU      - Item Name')\r\n",
    "for row in rows:\r\n",
    "    s = 'select itemstr from itemLookup where sku like ' + str(row[1])\r\n",
    "    cur.execute(s)\r\n",
    "    item = cur.fetchall()\r\n",
    "    print(str(row[0]) + \" - \" + str(row[1]) + \" - \" + item[0][0])\r\n",
    "con.close()"
   ],
   "outputs": [
    {
     "output_type": "stream",
     "name": "stdout",
     "text": [
      "Summary\n",
      "----------------------------------------------------\n",
      "Customer Count and Total Sales: 383437\n",
      "\n",
      "Total items bought: 15534409\n",
      "\n",
      "Most Popular Items by SKU\n",
      "Count - SKU      - Item Name\n",
      "51997 - 42359001 - Rowan Dairy Whole Milk Milk (Milk)\n",
      "51867 - 42356001 - Rowan Dairy 1.00% Milk (Milk)\n",
      "51720 - 42357001 - Rowan Dairy 2.00% Milk (Milk)\n",
      "51716 - 42358001 - Rowan Dairy 2.00% Milk (Milk)\n",
      "51657 - 42355001 - Rowan Dairy 1.00% Milk (Milk)\n",
      "51523 - 42360001 - Rowan Dairy Whole Milk Milk (Milk)\n",
      "20051 - 42313001 - Smuckers Jelly Grape (Jelly/Jam)\n",
      "20029 - 42311001 - Smuckers Jam Grape (Jelly/Jam)\n",
      "20025 - 42312001 - Smuckers Jam Strawberry (Jelly/Jam)\n",
      "20023 - 42314001 - Smuckers Squeeze Jelly Grape (Jelly/Jam)\n"
     ]
    }
   ],
   "metadata": {}
  }
 ],
 "metadata": {
  "orig_nbformat": 4,
  "language_info": {
   "name": "python",
   "version": "3.8.7",
   "mimetype": "text/x-python",
   "codemirror_mode": {
    "name": "ipython",
    "version": 3
   },
   "pygments_lexer": "ipython3",
   "nbconvert_exporter": "python",
   "file_extension": ".py"
  },
  "kernelspec": {
   "name": "python3",
   "display_name": "Python 3.8.7 64-bit"
  },
  "interpreter": {
   "hash": "8701f80c374d04af0e91f6be4c5e64730e695461425753d44c3710c84263da43"
  }
 },
 "nbformat": 4,
 "nbformat_minor": 2
}