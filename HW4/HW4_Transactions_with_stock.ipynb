{
 "cells": [
  {
   "cell_type": "markdown",
   "metadata": {},
   "source": [
    "# Team 5 - HW4 - Transactions Generator with Stocks #\n",
    "Data Warehousing - Fall 21\n",
    "\n",
    "Team 5: Vince Purcell, Brandon Mondile"
   ]
  },
  {
   "cell_type": "code",
   "execution_count": 25,
   "metadata": {},
   "outputs": [],
   "source": [
    "import csv\n",
    "from decimal import Decimal\n",
    "from os import system\n",
    "import random\n",
    "import datetime\n",
    "from datetime import date\n",
    "import math\n",
    "import sqlite3 as lite\n",
    "from sqlite3 import Error"
   ]
  },
  {
   "cell_type": "markdown",
   "metadata": {},
   "source": [
    "## Global Variables and Functions needed to track SKUs and Inventories ##"
   ]
  },
  {
   "cell_type": "code",
   "execution_count": 26,
   "metadata": {},
   "outputs": [],
   "source": [
    "def write_record(date, customer_number, SKU, price, left_in_stock, cases_bought, cur, conn):\n",
    "    try:\n",
    "        \n",
    "        cur.execute(\"INSERT INTO Transactions2020 VALUES (?, ?, ?, ?, ?, ?)\",\n",
    "                    (date, customer_number, SKU, price,\n",
    "                     left_in_stock, cases_bought))\n",
    "    except lite.OperationalError as err:\n",
    "        print(\"insert error: %s\", err)\n",
    "\n",
    "\n",
    "csv.register_dialect('piper', delimiter='|', quoting=csv.QUOTE_NONE)\n",
    "\n",
    "price_multiplier = 1.2\n",
    "total_items_bought = 0\n",
    "customer_count = 0\n",
    "\n",
    "simulation_length = 365\n",
    "manufacturer_list = []\n",
    "product_name_list = []\n",
    "size_list = []\n",
    "item_type_list = []\n",
    "sku_list = []\n",
    "base_price_list = []\n",
    "stock_list = []\n",
    "cases_ordered_list = []\n",
    "left_in_stock = []\n",
    "cases_bought = []\n",
    "\n",
    "milk_price = []\n",
    "milk_sku = []\n",
    "milk_stock = []\n",
    "milk_cases = []\n",
    "# 858 expected daily sales / 6 milk SKUs * 1.5 days\n",
    "milk_one_and_one_half = 215\n",
    "\n",
    "cereal_price = []\n",
    "cereal_sku = []\n",
    "cereal_stock = []\n",
    "cereal_cases = []\n",
    "# 2250 expected daily sales / 93 cereal SKUs * 3 days\n",
    "cereal_three_day = 73\n",
    "\n",
    "baby_food_price = []\n",
    "baby_food_sku = []\n",
    "baby_food_stock = []\n",
    "baby_food_cases = []\n",
    "# 3457 expected daily sales / 162 baby food SKUs * 3 days\n",
    "baby_food_three_day = 65\n",
    "\n",
    "diapers_price = []\n",
    "diapers_sku = []\n",
    "diapers_stock = []\n",
    "diapers_cases = []\n",
    "# 1911 expected daily sales / 82 diaper SKUs * 3 days\n",
    "diapers_three_day = 70\n",
    "\n",
    "bread_price = []\n",
    "bread_sku = []\n",
    "bread_stock = []\n",
    "bread_cases = []\n",
    "# 1535 expected daily sales / 48 bread SKUs * 3 days\n",
    "bread_three_day = 96\n",
    "\n",
    "peanut_butter_price = []\n",
    "peanut_butter_sku = []\n",
    "peanut_butter_stock = []\n",
    "peanut_butter_cases = []\n",
    "# 534 expected daily sales / 20 pb SKUs * 3 days\n",
    "peanut_butter_three_day = 81\n",
    "\n",
    "jelly_jam_price = []\n",
    "jelly_jam_sku = []\n",
    "jelly_jam_stock = []\n",
    "jelly_jam_cases = []\n",
    "# 234 expected daily sales / 4 jelly_jam SKUs * 3 days\n",
    "jelly_jam_three_day = 176\n",
    "\n",
    "random_item_price = []\n",
    "random_item_sku = []\n",
    "random_item_stock = []\n",
    "random_item_cases = []\n",
    "random_item_three_day = 80\n",
    "\n",
    "all_items = []\n",
    "stock_and_cases = []\n",
    "stock = []"
   ]
  },
  {
   "cell_type": "markdown",
   "metadata": {},
   "source": [
    "## Read Product list csv and initialize all sku, price, and stock lists ##\n",
    "\n",
    "Modified leonchuks code to just calculate initial stock based on variables defined above for 3/1.5 day stocks"
   ]
  },
  {
   "cell_type": "code",
   "execution_count": 27,
   "metadata": {},
   "outputs": [],
   "source": [
    "with open('Products1.txt', 'r') as csvfile:\n",
    "    for row in csv.DictReader(csvfile, dialect='piper'):\n",
    "        nosign = row['BasePrice']\n",
    "        nosign = float(Decimal(nosign.strip('$')))\n",
    "        nosign = nosign * price_multiplier\n",
    "        nosign = round(nosign, 2)\n",
    "        manufacturer_list.append(row.get('Manufacturer'))\n",
    "        product_name_list.append(row.get('ProductName'))\n",
    "        size_list.append(row.get('Size'))\n",
    "        item_type_list.append(row.get('itemType'))\n",
    "        sku_list.append(row.get('SKU'))\n",
    "        base_price_list.append(row.get('BasePrice'))\n",
    "        stock_list.append(row.get('Stock'))\n",
    "        cases_ordered_list.append(row.get('CasesOrdered'))\n",
    "        if row['itemType'] == 'Milk':\n",
    "            milk_price.append(nosign)\n",
    "            milk_sku.append(row['SKU'])\n",
    "            cases = math.ceil(milk_one_and_one_half / 12)\n",
    "            milk_cases.append(cases)\n",
    "            milk_stock.append(cases * 12)\n",
    "        elif row['itemType'] == 'Cereal':\n",
    "            cereal_price.append(nosign)\n",
    "            cereal_sku.append(row['SKU'])\n",
    "            cases = math.ceil(cereal_three_day / 12)\n",
    "            cereal_cases.append(cases)\n",
    "            cereal_stock.append(cases * 12)\n",
    "        elif row['itemType'] == 'Baby Food':\n",
    "            baby_food_price.append(nosign)\n",
    "            baby_food_sku.append(row['SKU'])\n",
    "            cases = math.ceil(baby_food_three_day / 12)\n",
    "            baby_food_cases.append(cases)\n",
    "            baby_food_stock.append(cases * 12)\n",
    "        elif row['itemType'] == 'Diapers':\n",
    "            diapers_price.append(nosign)\n",
    "            diapers_sku.append(row['SKU'])\n",
    "            cases = math.ceil(diapers_three_day / 12)\n",
    "            diapers_cases.append(cases)\n",
    "            diapers_stock.append(cases * 12)\n",
    "        elif row['itemType'] == 'Bread':\n",
    "            bread_price.append(nosign)\n",
    "            bread_sku.append(row['SKU'])\n",
    "            cases = math.ceil(bread_three_day / 12)\n",
    "            bread_cases.append(cases)\n",
    "            bread_stock.append(cases * 12)\n",
    "        elif row['itemType'] == 'Peanut Butter':\n",
    "            peanut_butter_price.append(nosign)\n",
    "            peanut_butter_sku.append(row['SKU'])\n",
    "            cases = math.ceil(peanut_butter_three_day / 12)\n",
    "            peanut_butter_cases.append(cases)\n",
    "            peanut_butter_stock.append(cases * 12)\n",
    "        elif row['itemType'] == 'Jelly/Jam':\n",
    "            jelly_jam_price.append(nosign)\n",
    "            jelly_jam_sku.append(row['SKU'])\n",
    "            cases = math.ceil(jelly_jam_three_day / 12)\n",
    "            jelly_jam_cases.append(cases)\n",
    "            jelly_jam_stock.append(cases * 12)\n",
    "        else:\n",
    "            if (row['itemType'] != 'Milk' and row['itemType'] != 'Cereal' and row['itemType'] != 'Baby Food' and row[\n",
    "                'itemType'] != 'Diapers' and row['itemType'] != 'Bread' and row['itemType'] != 'Peanut Butter' and row[\n",
    "                'itemType'] != 'Jelly/Jam'):\n",
    "                random_item_price.append(nosign)\n",
    "                random_item_sku.append(row['SKU'])\n",
    "                cases = math.ceil(random_item_three_day / 12)\n",
    "                random_item_cases.append(cases)\n",
    "                random_item_stock.append(cases * 12)"
   ]
  },
  {
   "cell_type": "markdown",
   "metadata": {},
   "source": [
    "## Functions that return random item by item type for transactions ##\n",
    "\n",
    "Modified leonchuks functions to do a recursive call when a customer tries to purchase an item out of stock"
   ]
  },
  {
   "cell_type": "code",
   "execution_count": 28,
   "metadata": {},
   "outputs": [],
   "source": [
    "def get_milk_sku_and_price_stock_cases():\n",
    "    random_index = random.randrange(len(milk_sku))\n",
    "    milk_stock[random_index] = milk_stock[random_index] - 1\n",
    "    if milk_stock[random_index] < 0:\n",
    "        milk_stock[random_index] = 0\n",
    "        return get_milk_sku_and_price_stock_cases()\n",
    "    else:\n",
    "        return milk_sku[random_index], milk_price[random_index], milk_stock[random_index], milk_cases[random_index]\n",
    "\n",
    "\n",
    "def get_cereal_sku_and_price_stock_cases():\n",
    "    random_index = random.randrange(len(cereal_sku))\n",
    "    cereal_stock[random_index] = cereal_stock[random_index] - 1\n",
    "    if cereal_stock[random_index] < 0:\n",
    "        cereal_stock[random_index] = 0\n",
    "        return get_cereal_sku_and_price_stock_cases()\n",
    "    else:\n",
    "        return cereal_sku[random_index], cereal_price[random_index], cereal_stock[random_index], cereal_cases[random_index]\n",
    "\n",
    "\n",
    "def get_baby_food_sku_and_price_stock_cases():\n",
    "    random_index = random.randrange(len(baby_food_sku))\n",
    "    baby_food_stock[random_index] = baby_food_stock[random_index] - 1\n",
    "    if baby_food_stock[random_index] < 0:\n",
    "        baby_food_stock[random_index] = 0\n",
    "        return get_baby_food_sku_and_price_stock_cases()\n",
    "    else:\n",
    "        return baby_food_sku[random_index], baby_food_price[random_index], baby_food_stock[random_index], baby_food_cases[random_index]\n",
    "\n",
    "\n",
    "def get_diapers_sku_and_price_stock_cases():\n",
    "    random_index = random.randrange(len(diapers_sku))\n",
    "    diapers_stock[random_index] = diapers_stock[random_index] - 1\n",
    "    if diapers_stock[random_index] < 0:\n",
    "        diapers_stock[random_index] = 0\n",
    "        return get_diapers_sku_and_price_stock_cases()\n",
    "    else:\n",
    "        return diapers_sku[random_index], diapers_price[random_index], diapers_stock[random_index], diapers_cases[random_index]\n",
    "\n",
    "\n",
    "def get_bread_sku_and_price_stock_cases():\n",
    "    random_index = random.randrange(len(bread_sku))\n",
    "    bread_stock[random_index] = bread_stock[random_index] - 1\n",
    "    if bread_stock[random_index] < 0:\n",
    "        bread_stock[random_index] = 0\n",
    "        return get_bread_sku_and_price_stock_cases()\n",
    "    else:\n",
    "        return bread_sku[random_index], bread_price[random_index], bread_stock[random_index], bread_cases[random_index]\n",
    "\n",
    "\n",
    "def get_peanut_butter_sku_and_price_stock_cases():\n",
    "    random_index = random.randrange(len(peanut_butter_sku))\n",
    "    peanut_butter_stock[random_index] = peanut_butter_stock[random_index] - 1\n",
    "    if peanut_butter_stock[random_index] < 0:\n",
    "        peanut_butter_stock[random_index] = 0\n",
    "        return get_peanut_butter_sku_and_price_stock_cases()\n",
    "    else:\n",
    "        return peanut_butter_sku[random_index], peanut_butter_price[random_index], peanut_butter_stock[random_index], peanut_butter_cases[random_index]\n",
    "\n",
    "\n",
    "def get_jelly_jam_sku_and_price_stock_cases():\n",
    "    random_index = random.randrange(len(jelly_jam_sku))\n",
    "    jelly_jam_stock[random_index] = jelly_jam_stock[random_index] - 1\n",
    "    if jelly_jam_stock[random_index] < 0:\n",
    "        jelly_jam_stock[random_index] = 0\n",
    "        return get_jelly_jam_sku_and_price_stock_cases()\n",
    "    else:\n",
    "        return jelly_jam_sku[random_index], jelly_jam_price[random_index], jelly_jam_stock[random_index], jelly_jam_cases[random_index]\n",
    "\n",
    "\n",
    "def get_random_item_sku_and_price_stock_cases():\n",
    "    random_index = random.randrange(len(random_item_sku))\n",
    "    random_item_stock[random_index] = random_item_stock[random_index] - 1\n",
    "    if random_item_stock[random_index] < 0:\n",
    "        random_item_stock[random_index] = 0\n",
    "        return get_random_item_sku_and_price_stock_cases()\n",
    "    else:\n",
    "        return random_item_sku[random_index], random_item_price[random_index], random_item_stock[random_index], random_item_cases[random_index]"
   ]
  },
  {
   "cell_type": "markdown",
   "metadata": {},
   "source": [
    "## Stock Order functions ##\n",
    "from leonchuk code"
   ]
  },
  {
   "cell_type": "code",
   "execution_count": 29,
   "metadata": {},
   "outputs": [],
   "source": [
    "def order_milk():\n",
    "    for stock in range(0, len(milk_sku)):\n",
    "        if milk_stock[stock] < milk_one_and_one_half:\n",
    "            difference = milk_one_and_one_half - milk_stock[stock]\n",
    "            cases_needed = math.ceil(difference / 12)\n",
    "            milk_stock[stock] = milk_stock[stock] + cases_needed * 12\n",
    "            milk_cases[stock] = milk_cases[stock] + cases_needed\n",
    "\n",
    "\n",
    "def order_cereal():\n",
    "    for stock in range(0, len(cereal_sku)):\n",
    "        if cereal_stock[stock] < cereal_three_day:\n",
    "            difference = cereal_three_day - cereal_stock[stock]\n",
    "            cases_needed = math.ceil(difference / 12)\n",
    "            cereal_stock[stock] = cereal_stock[stock] + cases_needed * 12\n",
    "            cereal_cases[stock] = cereal_cases[stock] + cases_needed\n",
    "\n",
    "\n",
    "def order_peanut_butter():\n",
    "    for stock in range(0, len(peanut_butter_sku)):\n",
    "        if peanut_butter_stock[stock] < peanut_butter_three_day:\n",
    "            difference = peanut_butter_three_day - peanut_butter_stock[stock]\n",
    "            cases_needed = math.ceil(difference / 12)\n",
    "            peanut_butter_stock[stock] = peanut_butter_stock[stock] + cases_needed * 12\n",
    "            peanut_butter_cases[stock] = peanut_butter_cases[stock] + cases_needed\n",
    "\n",
    "\n",
    "def order_jelly():\n",
    "    for stock in range(0, len(jelly_jam_sku)):\n",
    "        if jelly_jam_stock[stock] < jelly_jam_three_day:\n",
    "            difference = jelly_jam_three_day - jelly_jam_stock[stock]\n",
    "            cases_needed = math.ceil(difference / 12)\n",
    "            jelly_jam_stock[stock] = jelly_jam_stock[stock] + cases_needed * 12\n",
    "            jelly_jam_cases[stock] = jelly_jam_cases[stock] + cases_needed\n",
    "\n",
    "\n",
    "def order_baby_food():\n",
    "    for stock in range(0, len(baby_food_sku)):\n",
    "        if baby_food_stock[stock] < baby_food_three_day:\n",
    "            difference = baby_food_three_day - baby_food_stock[stock]\n",
    "            cases_needed = math.ceil(difference / 12)\n",
    "            baby_food_stock[stock] = baby_food_stock[stock] + cases_needed * 12\n",
    "            baby_food_cases[stock] = baby_food_cases[stock] + cases_needed\n",
    "\n",
    "\n",
    "def order_diapers():\n",
    "    for stock in range(0, len(diapers_sku)):\n",
    "        if diapers_stock[stock] < diapers_three_day:\n",
    "            difference = diapers_three_day - diapers_stock[stock]\n",
    "            cases_needed = math.ceil(difference / 12)\n",
    "            diapers_stock[stock] = diapers_stock[stock] + cases_needed * 12\n",
    "            diapers_cases[stock] = diapers_cases[stock] + cases_needed\n",
    "\n",
    "\n",
    "def order_bread():\n",
    "    for stock in range(0, len(bread_sku)):\n",
    "        if bread_stock[stock] < bread_three_day:\n",
    "            difference = bread_three_day - bread_stock[stock]\n",
    "            cases_needed = math.ceil(difference / 12)\n",
    "            bread_stock[stock] = bread_stock[stock] + cases_needed * 12\n",
    "            bread_cases[stock] = bread_cases[stock] + cases_needed\n",
    "\n",
    "\n",
    "def order_random_items():\n",
    "    for stock in range(0, len(random_item_sku)):\n",
    "        if random_item_stock[stock] < random_item_three_day:\n",
    "            difference = random_item_three_day - random_item_stock[stock]\n",
    "            cases_needed = math.ceil(difference / 12)\n",
    "            random_item_stock[stock] = random_item_stock[stock] + cases_needed * 12\n",
    "            random_item_cases[stock] = random_item_cases[stock] + cases_needed"
   ]
  },
  {
   "cell_type": "markdown",
   "metadata": {},
   "source": [
    "## Create Grocery DB and Generate Transactions##\n",
    "\n",
    "I modified leonchuks code to handle a purchase of an out of stock item inside the individual purchase functions above rather than the main script below.\n",
    "\n",
    "Also fixed bug where the code did not check if max items were hit after each purchase. It originally only checked when buying the random items"
   ]
  },
  {
   "cell_type": "code",
   "execution_count": 30,
   "metadata": {},
   "outputs": [
    {
     "name": "stdout",
     "output_type": "stream",
     "text": [
      "Working on Day  20\n",
      "Working on Day  40\n",
      "Working on Day  60\n",
      "Working on Day  80\n",
      "Working on Day  100\n",
      "Working on Day  120\n",
      "Working on Day  140\n",
      "Working on Day  160\n",
      "Working on Day  180\n",
      "Working on Day  200\n",
      "Working on Day  220\n",
      "Working on Day  240\n",
      "Working on Day  260\n",
      "Working on Day  280\n",
      "Working on Day  300\n",
      "Working on Day  320\n",
      "Working on Day  340\n",
      "Working on Day  360\n",
      "Working on Day  365\n"
     ]
    }
   ],
   "source": [
    "try:\n",
    "    # if grocery.db exists connect to it, otherwise create it\n",
    "    # one change i want is to have the rocery.db file write into the SQLite folder\n",
    "    conn = lite.connect('Grocery.db')\n",
    "except Error as e:\n",
    "    print(\"Error %s:\" % e.args[0])\n",
    "    system.exit(1)\n",
    "finally:\n",
    "    if conn:\n",
    "        cur = conn.cursor()\n",
    "        cur.execute(\"DROP TABLE IF EXISTS Transactions2020\")\n",
    "        cur.execute(\"CREATE TABLE Transactions2020 (date_text TEXT, customer_number INT, SKU TEXT, price FLOAT, \"\n",
    "                    \"left_in_stock INT, cases_bought INT)\")\n",
    "\n",
    "customers_low = 1020\n",
    "customers_high = 1060\n",
    "weekend_increase = 50\n",
    "maximum_items = 80\n",
    "simulation_start_date = date(2020, 1, 1)\n",
    "simulation_end_date = date(2020, 12, 31)\n",
    "current_date = simulation_start_date\n",
    "daily_customers = 0\n",
    "my_items = 0\n",
    "customer_number = 1\n",
    "\n",
    "for iday in range(0, simulation_length):\n",
    "    if (( (iday+1) % 20)==0):\n",
    "        print(\"Working on Day \", iday + 1)\n",
    "    increase = 0\n",
    "    current_date += datetime.timedelta(1)\n",
    "    if current_date.weekday() >= 5:\n",
    "        increase = weekend_increase\n",
    "\n",
    "    order_milk()\n",
    "\n",
    "    if current_date.weekday() == 1 or current_date.weekday() == 3 or current_date.weekday() == 5:\n",
    "        order_cereal()\n",
    "        order_baby_food()\n",
    "        order_bread()\n",
    "        order_diapers()\n",
    "        order_jelly()\n",
    "        order_peanut_butter()\n",
    "        order_random_items()\n",
    "\n",
    "    daily_customers = random.randint(customers_low + increase, customers_high + increase)\n",
    "    customer_number = 1\n",
    "\n",
    "    while customer_number <= daily_customers:\n",
    "        customer_count = customer_count + 1\n",
    "        my_items = random.randint(1, maximum_items)\n",
    "        k = 0\n",
    "        if random.randint(1, 100) <= 70:\n",
    "            SKU, price, left_in_stock, cases_bought = get_milk_sku_and_price_stock_cases()\n",
    "            write_record(current_date, customer_number, SKU, price, left_in_stock, cases_bought, cur, conn)\n",
    "            k += 1\n",
    "\n",
    "            if random.randint(1, 100) <= 50 and k < my_items:\n",
    "                SKU, price, left_in_stock, cases_bought = get_cereal_sku_and_price_stock_cases()\n",
    "                write_record(current_date, customer_number, SKU, price, left_in_stock, cases_bought, cur, conn)\n",
    "                k += 1\n",
    "\n",
    "        else:\n",
    "            if random.randint(1, 100) <= 5 and k < my_items:\n",
    "                SKU, price, left_in_stock, cases_bought = get_cereal_sku_and_price_stock_cases()\n",
    "                write_record(current_date, customer_number, SKU, price, left_in_stock, cases_bought, cur, conn)\n",
    "                k += 1\n",
    "\n",
    "        if random.randint(1, 100) <= 20 and k < my_items:\n",
    "            SKU, price, left_in_stock, cases_bought = get_baby_food_sku_and_price_stock_cases()\n",
    "            write_record(current_date, customer_number, SKU, price, left_in_stock, cases_bought, cur, conn)\n",
    "            k += 1\n",
    "\n",
    "            if random.randint(1, 100) <= 80 and k < my_items:\n",
    "                SKU, price, left_in_stock, cases_bought = get_diapers_sku_and_price_stock_cases()\n",
    "                write_record(current_date, customer_number, SKU, price, left_in_stock, cases_bought, cur, conn)\n",
    "                k += 1\n",
    "\n",
    "        else:\n",
    "            if random.randint(1, 100) <= 1 and k < my_items:\n",
    "                SKU, price, left_in_stock, cases_bought = get_diapers_sku_and_price_stock_cases()\n",
    "                write_record(current_date, customer_number, SKU, price, left_in_stock, cases_bought, cur, conn)\n",
    "                k += 1\n",
    "\n",
    "        if random.randint(1, 100) <= 50 and k < my_items:\n",
    "            SKU, price, stock, cases = get_bread_sku_and_price_stock_cases()\n",
    "            write_record(current_date, customer_number, SKU, price, left_in_stock, cases_bought, cur, conn)\n",
    "            k += 1\n",
    "\n",
    "        if random.randint(1, 100) <= 10 and k < my_items:\n",
    "            SKU, price, left_in_stock, cases_bought = get_peanut_butter_sku_and_price_stock_cases()\n",
    "            write_record(current_date, customer_number, SKU, price, left_in_stock, cases_bought, cur, conn)\n",
    "            k += 1\n",
    "\n",
    "            if random.randint(1, 100) <= 90 and k < my_items:\n",
    "                SKU, price, left_in_stock, cases_bought = get_jelly_jam_sku_and_price_stock_cases()\n",
    "                write_record(current_date, customer_number, SKU, price, left_in_stock, cases_bought, cur, conn)\n",
    "                k += 1\n",
    "\n",
    "        else:\n",
    "            if random.randint(1, 100) <= 5 and k < my_items:\n",
    "                SKU, price, left_in_stock, cases_bought = get_jelly_jam_sku_and_price_stock_cases()\n",
    "                write_record(current_date, customer_number, SKU, price, left_in_stock, cases_bought, cur, conn)\n",
    "                k += 1\n",
    "\n",
    "        while k < my_items:\n",
    "            SKU, price, left_in_stock, cases_bought = get_random_item_sku_and_price_stock_cases()\n",
    "            write_record(current_date, customer_number, SKU, price, left_in_stock, cases_bought, cur, conn)\n",
    "            k += 1\n",
    "\n",
    "        customer_number = customer_number + 1\n",
    "    conn.commit()\n",
    "print(\"Working on Day \", iday + 1)\n",
    "conn.close()"
   ]
  },
  {
   "cell_type": "markdown",
   "metadata": {},
   "source": [
    "## Create Table with SKUs and Item names ##\n",
    "This table will be used for item name lookup by SKU"
   ]
  },
  {
   "cell_type": "code",
   "execution_count": 31,
   "metadata": {},
   "outputs": [],
   "source": [
    "csv.register_dialect('piper', delimiter= '|', quoting = csv.QUOTE_NONE)\n",
    "\n",
    "con = lite.connect(r'Grocery.db')\n",
    "\n",
    "cur = con.cursor()\n",
    "\n",
    "cur.execute('drop table if exists itemLookup')\n",
    "cur.execute('create Table itemLookup(itemstr TEXT, sku INT)')\n",
    "\n",
    "with open('Products1.txt', 'r') as csvfile:\n",
    "    for row in csv.DictReader(csvfile, dialect= 'piper'):\n",
    "        sku = int(row['SKU'])\n",
    "        itemstr = str(row['Manufacturer']) + \" \" + str(row['Product Name']) + \" (\" + str(row['itemType']) + \")\"\n",
    "        try:\n",
    "            cur.execute(\"INSERT INTO itemLookup VALUES (?,?)\",\n",
    "                        (itemstr, sku))\n",
    "        except lite.OperationalError as err:\n",
    "            print(\"insert error: %s\", err)\n",
    "            break\n",
    "\n",
    "con.commit()\n",
    "con.close()"
   ]
  },
  {
   "cell_type": "markdown",
   "metadata": {},
   "source": [
    "## Count Total Customers and Sales ##"
   ]
  },
  {
   "cell_type": "code",
   "execution_count": 32,
   "metadata": {},
   "outputs": [],
   "source": [
    "con = lite.connect(r'Grocery.db')\n",
    "cur = con.cursor()\n",
    "s = 'select count(customer_number) from Transactions2020'\n",
    "cur.execute(s)\n",
    "query = cur.fetchall()\n",
    "total_items = query[0][0]\n",
    "con.close()"
   ]
  },
  {
   "cell_type": "markdown",
   "metadata": {},
   "source": [
    "## Get count of most common SKUs and print summary ##"
   ]
  },
  {
   "cell_type": "code",
   "execution_count": 33,
   "metadata": {},
   "outputs": [
    {
     "name": "stdout",
     "output_type": "stream",
     "text": [
      "Summary\n",
      "----------------------------------------------------\n",
      "Customer Count and Total Sales: 384772\n",
      "\n",
      "Total items bought: 15586657\n",
      "\n",
      "Most Popular Items by SKU\n",
      "Count - SKU      - Item Name\n",
      "44900 - 42355001 - Rowan Dairy 1.00% Milk (Milk)\n",
      "44891 - 42360001 - Rowan Dairy Whole Milk Milk (Milk)\n",
      "44855 - 42359001 - Rowan Dairy Whole Milk Milk (Milk)\n",
      "44807 - 42358001 - Rowan Dairy 2.00% Milk (Milk)\n",
      "44697 - 42357001 - Rowan Dairy 2.00% Milk (Milk)\n",
      "44692 - 42356001 - Rowan Dairy 1.00% Milk (Milk)\n",
      "12657 - 42311001 - Smuckers Jam Grape (Jelly/Jam)\n",
      "12651 - 42312001 - Smuckers Jam Strawberry (Jelly/Jam)\n",
      "12548 - 42314001 - Smuckers Squeeze Jelly Grape (Jelly/Jam)\n",
      "12505 - 42313001 - Smuckers Jelly Grape (Jelly/Jam)\n"
     ]
    }
   ],
   "source": [
    "print(\"Summary\\n----------------------------------------------------\")\n",
    "print(\"Customer Count and Total Sales: \" + str(customer_count) + \"\\n\")\n",
    "print(\"Total items bought: \" + str(total_items) + \"\\n\")\n",
    "\n",
    "con = lite.connect(r'Grocery.db')\n",
    "cur = con.cursor()\n",
    "s = 'select count(SKU) as cnt1, SKU from Transactions2020 group by SKU order by cnt1 DESC limit 10'\n",
    "cur.execute(s)\n",
    "rows = cur.fetchall()\n",
    "print(\"Most Popular Items by SKU\")\n",
    "print('Count - SKU      - Item Name')\n",
    "for row in rows:\n",
    "    s = 'select itemstr from itemLookup where sku like ' + str(row[1])\n",
    "    cur.execute(s)\n",
    "    item = cur.fetchall()\n",
    "    print(str(row[0]) + \" - \" + str(row[1]) + \" - \" + item[0][0])\n",
    "con.close()"
   ]
  },
  {
   "cell_type": "markdown",
   "metadata": {},
   "source": [
    "# Code Below was taken from the code provided by Professor Brietzman #\n",
    "Code runs analysis on generated transactions to assure generation script has no bugs"
   ]
  },
  {
   "cell_type": "code",
   "execution_count": 34,
   "metadata": {},
   "outputs": [],
   "source": [
    "#a couple of handy functions taken from\n",
    "#https://sebastianraschka.com/Articles/2014_sqlite_in_python_tutorial.html#printing-a-database-summary\n",
    "def total_rows(cursor, table_name, print_out=False):\n",
    "    \"\"\" Returns the total number of rows in the database \"\"\"\n",
    "    cursor.execute('SELECT COUNT(*) FROM {}'.format(table_name))\n",
    "    count = cursor.fetchall()\n",
    "    if print_out:\n",
    "        print('\\nTotal rows: {}'.format(count[0][0]))\n",
    "    return count[0][0]\n",
    "\n",
    "\n",
    "def table_col_info(cursor, table_name, print_out=False):\n",
    "    \"\"\" Returns a list of tuples with column informations:\n",
    "    (id, name, type, notnull, default_value, primary_key)\n",
    "    \"\"\"\n",
    "    cursor.execute('PRAGMA TABLE_INFO({})'.format(table_name))\n",
    "    info = cursor.fetchall()\n",
    "\n",
    "    if print_out:\n",
    "        print(\"\\nColumn Info:\\nID, Name, Type, NotNull, DefaultVal, PrimaryKey\")\n",
    "        for col in info:\n",
    "            print(col)\n",
    "    return info"
   ]
  },
  {
   "cell_type": "code",
   "execution_count": 35,
   "metadata": {},
   "outputs": [],
   "source": [
    "con = lite.connect('Grocery.db')\n",
    "cur = con.cursor()"
   ]
  },
  {
   "cell_type": "code",
   "execution_count": 36,
   "metadata": {},
   "outputs": [
    {
     "name": "stdout",
     "output_type": "stream",
     "text": [
      "inserted row  1000\n",
      "inserted row  2000\n"
     ]
    }
   ],
   "source": [
    "def strip_uni(s):\n",
    "      return s.replace(u'\\xa0', u' ')\n",
    "\n",
    "cur.execute(\"DROP TABLE IF EXISTS products\")\n",
    "s = 'CREATE TABLE products(Manufacturer varchar(255), Product Name varchar(255), Size varchar(255),'\n",
    "s = s+' itemType varchar(255),SKU varchar(8), BasePrice float)'\n",
    "cur.execute(s)\n",
    "\n",
    "i = 0\n",
    "with open('Products1.txt', 'r') as csvfile:\n",
    "    for row in csv.DictReader(csvfile, dialect= 'piper'):\n",
    "        i = i + 1\n",
    "        try:\n",
    "              cur.execute(\"INSERT INTO products VALUES (?,?,?,?,?,?)\",\n",
    "                          (row['Manufacturer'],row['Product Name'],strip_uni(row['Size']),\n",
    "                           row['itemType'],row['SKU'],float(row['BasePrice'][1:])))\n",
    "        except lite.OperationalError as err:\n",
    "                print(\"insert error: %s\", err)\n",
    "        if ((i % 1000)==0):\n",
    "            print(\"inserted row \",str(i))\n",
    "            con.commit()\n",
    "            \n",
    "csvfile.close()\n",
    "con.commit()"
   ]
  },
  {
   "cell_type": "code",
   "execution_count": 37,
   "metadata": {},
   "outputs": [
    {
     "data": {
      "text/plain": [
       "15586657"
      ]
     },
     "execution_count": 37,
     "metadata": {},
     "output_type": "execute_result"
    }
   ],
   "source": [
    "#how many rows?\n",
    "total_rows(cur,'Transactions2020',False)"
   ]
  },
  {
   "cell_type": "code",
   "execution_count": 38,
   "metadata": {},
   "outputs": [
    {
     "data": {
      "text/plain": [
       "<sqlite3.Cursor at 0x19f8d6379d0>"
      ]
     },
     "execution_count": 38,
     "metadata": {},
     "output_type": "execute_result"
    }
   ],
   "source": [
    "#looks like they passed test 1.  Now let's count the customers per day\n",
    "s = \"CREATE TEMP VIEW Vcust as \"\n",
    "s = s + \"SELECT date_text, max(customer_number) as maxTnum from Transactions2020 group by date_text;\"\n",
    "cur.execute(s)"
   ]
  },
  {
   "cell_type": "code",
   "execution_count": 39,
   "metadata": {},
   "outputs": [
    {
     "name": "stdout",
     "output_type": "stream",
     "text": [
      "('2020-01-02', 1033)\n",
      "('2020-01-03', 1055)\n",
      "('2020-01-04', 1075)\n",
      "('2020-01-05', 1072)\n",
      "('2020-01-06', 1049)\n",
      "('2020-01-07', 1052)\n",
      "('2020-01-08', 1048)\n",
      "('2020-01-09', 1037)\n",
      "('2020-01-10', 1048)\n",
      "('2020-01-11', 1095)\n",
      "('2020-01-12', 1088)\n",
      "('2020-01-13', 1032)\n",
      "('2020-01-14', 1050)\n",
      "('2020-01-15', 1056)\n"
     ]
    }
   ],
   "source": [
    "#look at the first 2 weeks\n",
    "cur.execute(\"SELECT * FROM Vcust Limit 14\" )\n",
    "rows = cur.fetchall()\n",
    "for row in rows:\n",
    "    print(row)"
   ]
  },
  {
   "cell_type": "code",
   "execution_count": 40,
   "metadata": {},
   "outputs": [
    {
     "name": "stdout",
     "output_type": "stream",
     "text": [
      "(1054.1698630136987,)\n"
     ]
    }
   ],
   "source": [
    "#Looks like 1020 to 1060 with +50 on weekends.  So far so good.\n",
    "#just to be sure we'll look at the average over 365 days\n",
    "cur.execute(\"SELECT avg(maxTnum) as avgCust from Vcust\" )\n",
    "rows = cur.fetchall()\n",
    "for row in rows:\n",
    "    print(row)"
   ]
  },
  {
   "cell_type": "code",
   "execution_count": 41,
   "metadata": {},
   "outputs": [],
   "source": [
    "def print_select(cur, select_statement, max_rows):\n",
    "    select_statement = select_statement + \" limit \"+str(max_rows)\n",
    "    cur.execute(select_statement)\n",
    "    rows = cur.fetchall()\n",
    "    for row in rows:\n",
    "      print(row)"
   ]
  },
  {
   "cell_type": "markdown",
   "metadata": {},
   "source": [
    "### Check the number of items per customer ###\n",
    "### Each customer bought between 1 and 80 and it should be equally likely ###"
   ]
  },
  {
   "cell_type": "code",
   "execution_count": 42,
   "metadata": {},
   "outputs": [
    {
     "name": "stdout",
     "output_type": "stream",
     "text": [
      "('2020-01-02', 1, 63)\n",
      "('2020-01-02', 2, 58)\n",
      "('2020-01-02', 3, 3)\n",
      "('2020-01-02', 4, 58)\n",
      "('2020-01-02', 5, 68)\n",
      "('2020-01-02', 6, 48)\n",
      "('2020-01-02', 7, 58)\n",
      "('2020-01-02', 8, 33)\n",
      "('2020-01-02', 9, 34)\n",
      "('2020-01-02', 10, 44)\n"
     ]
    }
   ],
   "source": [
    "s = \"CREATE TEMP VIEW Vitems as \"\n",
    "s = s + \"SELECT date_text, customer_number,count(SKU) as count1 from Transactions2020 group by date_text,customer_number;\"\n",
    "cur.execute(s)\n",
    "print_select(cur, \"SELECT * FROM Vitems\",10)"
   ]
  },
  {
   "cell_type": "markdown",
   "metadata": {},
   "source": [
    "### Each value of 1 to 80 should be equally likely ###"
   ]
  },
  {
   "cell_type": "code",
   "execution_count": 43,
   "metadata": {},
   "outputs": [
    {
     "name": "stdout",
     "output_type": "stream",
     "text": [
      "(1, 4809)\n",
      "(2, 4733)\n",
      "(3, 4779)\n",
      "(4, 4768)\n",
      "(5, 4923)\n",
      "(6, 4848)\n",
      "(7, 4673)\n",
      "(8, 4795)\n",
      "(9, 4828)\n",
      "(10, 4726)\n",
      "(11, 4947)\n",
      "(12, 4755)\n",
      "(13, 4769)\n",
      "(14, 4860)\n",
      "(15, 4776)\n",
      "(16, 4681)\n",
      "(17, 4883)\n",
      "(18, 4832)\n",
      "(19, 4732)\n",
      "(20, 4762)\n",
      "(21, 4902)\n",
      "(22, 4834)\n",
      "(23, 4785)\n",
      "(24, 4836)\n",
      "(25, 4841)\n",
      "(26, 4775)\n",
      "(27, 4865)\n",
      "(28, 4795)\n",
      "(29, 4803)\n",
      "(30, 4917)\n",
      "(31, 4783)\n",
      "(32, 4812)\n",
      "(33, 4908)\n",
      "(34, 4772)\n",
      "(35, 4884)\n",
      "(36, 4888)\n",
      "(37, 4775)\n",
      "(38, 4700)\n",
      "(39, 4907)\n",
      "(40, 4717)\n",
      "(41, 4933)\n",
      "(42, 4832)\n",
      "(43, 4795)\n",
      "(44, 4775)\n",
      "(45, 4774)\n",
      "(46, 4876)\n",
      "(47, 4904)\n",
      "(48, 4801)\n",
      "(49, 4678)\n",
      "(50, 4732)\n",
      "(51, 4840)\n",
      "(52, 4788)\n",
      "(53, 4736)\n",
      "(54, 4765)\n",
      "(55, 4801)\n",
      "(56, 4701)\n",
      "(57, 4814)\n",
      "(58, 4929)\n",
      "(59, 4735)\n",
      "(60, 4792)\n",
      "(61, 4853)\n",
      "(62, 4767)\n",
      "(63, 4854)\n",
      "(64, 4810)\n",
      "(65, 4939)\n",
      "(66, 4917)\n",
      "(67, 4782)\n",
      "(68, 4934)\n",
      "(69, 4774)\n",
      "(70, 4763)\n",
      "(71, 4863)\n",
      "(72, 4762)\n",
      "(73, 4874)\n",
      "(74, 4839)\n",
      "(75, 4882)\n",
      "(76, 4747)\n",
      "(77, 4767)\n",
      "(78, 4722)\n",
      "(79, 4725)\n",
      "(80, 4819)\n"
     ]
    }
   ],
   "source": [
    "s = \"Select count1 as numItemsPerCust, count(customer_number) as total from Vitems group by count1\"\n",
    "print_select(cur,s,500)"
   ]
  },
  {
   "cell_type": "code",
   "execution_count": 44,
   "metadata": {},
   "outputs": [
    {
     "data": {
      "text/plain": [
       "<sqlite3.Cursor at 0x19f8d6379d0>"
      ]
     },
     "execution_count": 44,
     "metadata": {},
     "output_type": "execute_result"
    }
   ],
   "source": [
    "# Create products table\n",
    "cur.execute(\"DROP TABLE IF EXISTS products\")\n",
    "s = 'CREATE TABLE products(Manufacturer varchar(255), Product Name varchar(255), Size varchar(255),'\n",
    "s = s+' itemType varchar(255),SKU varchar(8), BasePrice float)'\n",
    "cur.execute(s)"
   ]
  },
  {
   "cell_type": "markdown",
   "metadata": {},
   "source": [
    "## Create Product Table ##"
   ]
  },
  {
   "cell_type": "code",
   "execution_count": 45,
   "metadata": {},
   "outputs": [
    {
     "name": "stdout",
     "output_type": "stream",
     "text": [
      "inserted row  1000\n",
      "inserted row  2000\n"
     ]
    }
   ],
   "source": [
    "def strip_uni(s):\n",
    "      return s.replace(u'\\xa0', u' ')\n",
    "\n",
    "cur.execute(\"DROP TABLE IF EXISTS products\")\n",
    "s = 'CREATE TABLE products(Manufacturer varchar(255), Product Name varchar(255), Size varchar(255),'\n",
    "s = s+' itemType varchar(255),SKU varchar(8), BasePrice float)'\n",
    "cur.execute(s)\n",
    "\n",
    "i = 0\n",
    "with open('Products1.txt', 'r') as csvfile:\n",
    "    for row in csv.DictReader(csvfile, dialect= 'piper'):\n",
    "        i = i + 1\n",
    "        try:\n",
    "              cur.execute(\"INSERT INTO products VALUES (?,?,?,?,?,?)\",\n",
    "                          (row['Manufacturer'],row['Product Name'],strip_uni(row['Size']),\n",
    "                           row['itemType'],row['SKU'],float(row['BasePrice'][1:])))\n",
    "        except sqlite3.OperationalError as err:\n",
    "                print(\"insert error: %s\", err)\n",
    "        if ((i % 1000)==0):\n",
    "            print(\"inserted row \",str(i))\n",
    "            con.commit()\n",
    "            \n",
    "csvfile.close()\n",
    "con.commit()"
   ]
  },
  {
   "cell_type": "markdown",
   "metadata": {},
   "source": [
    "## Top selling products ##"
   ]
  },
  {
   "cell_type": "code",
   "execution_count": 46,
   "metadata": {},
   "outputs": [
    {
     "name": "stdout",
     "output_type": "stream",
     "text": [
      "(44900, '42355001')\n",
      "(44891, '42360001')\n",
      "(44855, '42359001')\n",
      "(44807, '42358001')\n",
      "(44697, '42357001')\n",
      "(44692, '42356001')\n",
      "(12657, '42311001')\n",
      "(12651, '42312001')\n",
      "(12548, '42314001')\n",
      "(12505, '42313001')\n",
      "(9228, '42847001')\n",
      "(9181, '42378001')\n",
      "(9180, '42122001')\n",
      "(9177, '43782001')\n",
      "(9163, '43506001')\n",
      "(9150, '43624001')\n",
      "(9145, '42375001')\n",
      "(9139, '42452001')\n",
      "(9137, '42765001')\n",
      "(9135, '42337001')\n"
     ]
    }
   ],
   "source": [
    "s='Create TEMP View vTopSKUs as Select count(customer_number) as TotalSold, SKU from Transactions2020 group by SKU Order by TotalSold DESC;'\n",
    "cur.execute(s)\n",
    "print_select(cur,'Select * from vTopSKUs',20)"
   ]
  },
  {
   "cell_type": "code",
   "execution_count": 47,
   "metadata": {},
   "outputs": [
    {
     "name": "stdout",
     "output_type": "stream",
     "text": [
      "(2614292, '')\n",
      "(1477606, 'Snacks')\n",
      "(1183186, 'Coffee/Creamer')\n",
      "(1066934, 'Fresh Vegetables')\n",
      "(676126, 'Baked Goods Other than Bread')\n",
      "(623034, 'Fresh Fruit')\n",
      "(524373, 'Pasta/Noodles')\n",
      "(401041, 'Soup')\n",
      "(400091, 'Cheese')\n",
      "(355759, 'Cookies')\n",
      "(302393, 'Frozen Food')\n",
      "(268842, 'Milk')\n",
      "(267341, 'Canned Vegetables')\n",
      "(223229, 'Frozen Vegetables')\n",
      "(222917, 'Chocolate Candy')\n",
      "(221729, 'Nuts')\n",
      "(188769, 'Bread')\n",
      "(186248, 'Canned Goods')\n",
      "(178254, 'Dips')\n",
      "(177742, 'Cooking Oil')\n",
      "(177601, 'Popsicles')\n",
      "(177583, 'Deli Meats')\n",
      "(177362, 'Pizza')\n",
      "(138361, 'Cereal')\n",
      "(134117, 'Spices')\n",
      "(133760, 'Bologna')\n",
      "(133512, 'Deli Salads')\n",
      "(133424, 'Popcorn')\n",
      "(133337, 'French Fries')\n",
      "(133210, 'TV Dinner')\n",
      "(132969, 'Cleaners')\n",
      "(132896, 'Frozen Chicken')\n",
      "(124047, 'Hot Dogs')\n",
      "(106718, 'Soda/Juice/Drinks')\n",
      "(106577, 'Rice')\n",
      "(97961, 'Yogurt')\n",
      "(97703, 'Gravy/Sauce')\n",
      "(89180, 'Sugar')\n",
      "(89094, 'Ice Cream')\n",
      "(89055, 'Aspirin')\n",
      "(88970, 'Hard Candy')\n",
      "(88947, 'Hamburger')\n",
      "(88659, 'Canned Fruit')\n",
      "(88617, 'Cottage Cheese')\n",
      "(88520, 'Tuna')\n",
      "(88264, 'Sour Cream')\n",
      "(75985, 'Baby Food')\n",
      "(71157, 'Juice')\n",
      "(62972, 'Diapers')\n",
      "(62680, 'Drink')\n"
     ]
    }
   ],
   "source": [
    "s = 'Select sum(TotalSold) as Total, Products.itemType as ItemType from vTopSKUs inner join Products on '\n",
    "s = s+'vTopSKUs.SKU=Products.SKU group by ItemType Order by Total DESC'\n",
    "print_select(cur,s,50)"
   ]
  },
  {
   "cell_type": "code",
   "execution_count": 48,
   "metadata": {},
   "outputs": [],
   "source": [
    "con.close()"
   ]
  }
 ],
 "metadata": {
  "interpreter": {
   "hash": "8701f80c374d04af0e91f6be4c5e64730e695461425753d44c3710c84263da43"
  },
  "kernelspec": {
   "display_name": "Python 3.8.7 64-bit",
   "name": "python3"
  },
  "language_info": {
   "codemirror_mode": {
    "name": "ipython",
    "version": 3
   },
   "file_extension": ".py",
   "mimetype": "text/x-python",
   "name": "python",
   "nbconvert_exporter": "python",
   "pygments_lexer": "ipython3",
   "version": "3.8.7"
  },
  "orig_nbformat": 4
 },
 "nbformat": 4,
 "nbformat_minor": 2
}
