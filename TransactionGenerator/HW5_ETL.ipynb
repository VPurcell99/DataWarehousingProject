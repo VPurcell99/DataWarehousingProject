{
 "cells": [
  {
   "cell_type": "markdown",
   "metadata": {},
   "source": [
    "# Team 5 - HW5 - ETL Data Mart HW\n",
    "Data Warehousing - Fall 21\n",
    "\n",
    "Team 5: Vince Purcell, Brandon Mondile"
   ]
  },
  {
   "cell_type": "code",
   "execution_count": 34,
   "metadata": {},
   "outputs": [],
   "source": [
    "import csv\n",
    "from decimal import Decimal\n",
    "from os import system\n",
    "import random\n",
    "import datetime\n",
    "from datetime import date\n",
    "import math\n",
    "import sqlite3 as lite\n",
    "from sqlite3 import Error"
   ]
  },
  {
   "cell_type": "markdown",
   "metadata": {},
   "source": [
    "## Put team 4 and 6 transactions into our database\n"
   ]
  },
  {
   "cell_type": "code",
   "execution_count": 35,
   "metadata": {},
   "outputs": [],
   "source": [
    "#team 4 database extraction and insertion\n",
    "\n",
    "con = lite.connect(r'Grocery.db')\n",
    "cur = con.cursor()\n",
    "\n",
    "con2 = lite.connect(r'grocery_group4_fixed.db')\n",
    "cur2 = con2.cursor()\n",
    "\n",
    "cur.execute(\"DROP TABLE IF EXISTS Team4Transactions\")\n",
    "s = 'CREATE TABLE Team4Transactions(date_text varchar(50), customer_number INT, SKU varchar(50), price FLOAT, '\n",
    "s = s+'left_in_stock INT, cases_bought INT)'\n",
    "cur.execute(s)\n",
    "\n",
    "s2 = 'SELECT * FROM sale_data;'\n",
    "rows = cur2.execute(s2).fetchall()\n",
    "\n",
    "insertVar = 'INSERT INTO Team4Transactions VALUES (?, ?, ?, ?, ?, ?);'\n",
    "\n",
    "cur.executemany(insertVar, rows)\n",
    "\n",
    "\n",
    "con.commit()\n",
    "con2.close()\n"
   ]
  },
  {
   "cell_type": "code",
   "execution_count": 36,
   "metadata": {},
   "outputs": [
    {
     "name": "stdout",
     "output_type": "stream",
     "text": [
      "15560682  rows inserted\n"
     ]
    }
   ],
   "source": [
    "con = lite.connect(r'Grocery.db')\n",
    "cur = con.cursor()\n",
    "\n",
    "cur.execute(\"DROP TABLE IF EXISTS Team6Transactions\")\n",
    "s = 'CREATE TABLE Team6Transactions(date_text varchar(50), customer_number INT, SKU varchar(50), price FLOAT, '\n",
    "s = s+'left_in_stock INT, cases_bought INT)'\n",
    "cur.execute(s)\n",
    "\n",
    "insertVar2 = 'INSERT INTO Team6Transactions VALUES (?, ?, ?, ?, ?, ?);'\n",
    "\n",
    "line_count = 0\n",
    "with open('Grocery_team6.csv') as csv_file:\n",
    "    csv_reader = csv.reader(csv_file, delimiter=',')    \n",
    "    \n",
    "    for row in csv_reader:\n",
    "        cur.execute(insertVar2, row[1:7])\n",
    "        line_count += 1\n",
    "            \n",
    "    \n",
    "        \n",
    "print(line_count, \" rows inserted\")\n",
    "\n",
    "con.commit()\n",
    "        \n",
    "con.close()"
   ]
  },
  {
   "cell_type": "markdown",
   "metadata": {},
   "source": [
    "## Deliverable 2\n",
    "\n",
    "Creation of Source Dimension Table and Updates to Product Dimension Table"
   ]
  },
  {
   "cell_type": "code",
   "execution_count": 37,
   "metadata": {},
   "outputs": [
    {
     "name": "stdout",
     "output_type": "stream",
     "text": [
      "inserted row  1000\n",
      "inserted row  2000\n"
     ]
    }
   ],
   "source": [
    "con = lite.connect(r'Grocery.db')\n",
    "cur = con.cursor()\n",
    "\n",
    "def strip_uni(s):\n",
    "      return s.replace(u'\\xa0', u' ')\n",
    "\n",
    "cur.execute(\"DROP TABLE IF EXISTS ProductDimension\")\n",
    "s = 'CREATE TABLE ProductDimension(ProductKey INT, SKU varchar(8), BasePrice FLOAT, ProductName varchar(50), ProductClassID INT,'\n",
    "s = s+' Subcategory varchar(50), Category varchar(50), Department varchar(50), ProductFamily varchar(50), Size varchar(10),' \n",
    "s = s+'PerCase INT, Manufacturer varchar(50), Supplier varchar(16))'\n",
    "cur.execute(s)\n",
    "\n",
    "cur.execute('drop table if exists SourceDimension')\n",
    "cur.execute('create Table SourceDimension(SKU INT, Source INT)')\n",
    "\n",
    "product_classes = {}\n",
    "with open('product_class.csv', 'r') as csvfile:\n",
    "    for row in csv.DictReader(csvfile):\n",
    "        product_dict = {\n",
    "            \"product_class_id\" : list(row.values())[0], \n",
    "            \"product_subcategory\" : row['product_subcategory'], \n",
    "            \"product_category\" : row['product_category'],\n",
    "            \"product_department\" : row['product_department'], \n",
    "            \"product_family\" : row['product_family']\n",
    "        }\n",
    "        product_classes[row['product_subcategory']] = product_dict\n",
    "\n",
    "i = 0\n",
    "perCase = 12\n",
    "with open('products_first_working.csv', 'r') as csvfile:\n",
    "    for row in csv.DictReader(csvfile):\n",
    "        i = i + 1\n",
    "        sku = row['SKU']\n",
    "        source = int(row['Source'])\n",
    "        size = strip_uni(row['Size'])\n",
    "        subcat = row['itemType']\n",
    "        manufacturer = row['Manufacturer']\n",
    "        productName = row['Product']\n",
    "        basePrice = row['BasePrice']\n",
    "\n",
    "        product_class = product_classes[subcat]\n",
    "        classId = int(product_class[\"product_class_id\"])\n",
    "        category = product_class[\"product_category\"]\n",
    "        department = product_class[\"product_department\"]\n",
    "        family = product_class[\"product_family\"]\n",
    "\n",
    "        supplier = \"Rowan Warehouse\"\n",
    "        if subcat == \"Milk\":\n",
    "            supplier = \"Rowan Dairy\"\n",
    "\n",
    "\n",
    "        cur.execute(\"INSERT INTO SourceDimension VALUES (?,?)\",\n",
    "                        (sku, source))\n",
    "\n",
    "        cur.execute(\"INSERT INTO ProductDimension VALUES (?,?,?,?,?,?,?,?,?,?,?,?,?)\",\n",
    "                        (i, sku, basePrice, productName, classId, subcat, category, department, family, size, perCase, manufacturer, supplier))\n",
    "\n",
    "        if ((i % 1000)==0):\n",
    "            print(\"inserted row \",str(i))\n",
    "            con.commit()\n",
    "        \n",
    "\n",
    "\n",
    "con.commit()\n",
    "con.close()"
   ]
  },
  {
   "cell_type": "markdown",
   "metadata": {},
   "source": [
    "### Deliverable 2a ###\n",
    "Product Dimension"
   ]
  },
  {
   "cell_type": "code",
   "execution_count": 38,
   "metadata": {},
   "outputs": [
    {
     "name": "stdout",
     "output_type": "stream",
     "text": [
      "['ProductKey', 'SKU', 'BasePrice', 'ProductName', 'ProductClassID', 'Subcategory', 'Category', 'Department', 'ProductFamily', 'Size', 'PerCase', 'Manufacturer', 'Supplier']\n",
      "(1, '42081001', 2.49, 'Jambalaya Rice Mix', 57, 'Rice', 'Starchy Foods', 'Starchy Foods', 'Food', '12ï¿½oz', 12, 'Zatarains', 'Rowan Warehouse')\n",
      "(2, '42082001', 1.79, 'Jambalaya Rice Mix', 57, 'Rice', 'Starchy Foods', 'Starchy Foods', 'Food', '8ï¿½oz', 12, 'Zatarains', 'Rowan Warehouse')\n",
      "(3, '42083001', 3.99, 'Guacamole Regular', 83, 'Dips', 'Snack Foods', 'Snack Foods', 'Food', '8ï¿½oz', 12, 'Yucatan', 'Rowan Warehouse')\n",
      "(4, '42084001', 3.99, 'Coffee Original Blend', 90, 'Coffee', 'Hot Beverages', 'Beverages', 'Drink', '12ï¿½oz', 12, 'Yuban', 'Rowan Warehouse')\n",
      "(5, '42085001', 2.99, 'GoGurt Variety Pack', 6, 'Yogurt', 'Dairy', 'Dairy', 'Food', '8ï¿½ct', 12, 'Yoplait', 'Rowan Warehouse')\n",
      "(6, '42086001', 2.0, 'Italian Dressing', 48, 'Sauces', 'Baking Goods', 'Baking Goods', 'Food', '16ï¿½oz', 12, 'Wishbone', 'Rowan Warehouse')\n",
      "(7, '42087001', 11.59, 'Cheeseburger Heat & Serve Sliders', 10, 'TV Dinner', 'Frozen Entrees', 'Frozen Foods', 'Food', '29.28ï¿½oz', 12, 'White Castle', 'Rowan Warehouse')\n",
      "(8, '42088001', 4.99, 'Choice Cuts Poultry', 77, 'Fresh Chicken', 'Meat', 'Deli', 'Food', '36ï¿½oz', 12, 'Whiskas', 'Rowan Warehouse')\n",
      "(9, '42089001', 3.59, 'Farmers Pick Concord Grape', 31, 'Jelly', 'Jams and Jellies', 'Baking Goods', 'Food', '46ï¿½oz', 12, 'Welchs', 'Rowan Warehouse')\n",
      "(10, '42090001', 4.79, 'Juice Red Grape', 30, 'Juice', 'Pure Juice Beverages', 'Beverages', 'Drink', '64ï¿½oz', 12, 'Welchs', 'Rowan Warehouse')\n"
     ]
    }
   ],
   "source": [
    "con = lite.connect(r'Grocery.db')\n",
    "cur = con.cursor()\n",
    "\n",
    "cur.execute('SELECT * FROM ProductDimension LIMIT 10')\n",
    "names = [description[0] for description in cur.description]\n",
    "\n",
    "print(names)\n",
    "rows = cur.fetchall()\n",
    "for row in rows:\n",
    "    print(row)\n",
    "\n",
    "con.commit()\n",
    "con.close()"
   ]
  },
  {
   "cell_type": "markdown",
   "metadata": {},
   "source": [
    "### Deliverable 2b ###\n",
    "Source Dimension"
   ]
  },
  {
   "cell_type": "code",
   "execution_count": 39,
   "metadata": {},
   "outputs": [
    {
     "name": "stdout",
     "output_type": "stream",
     "text": [
      "['SKU', 'Source']\n",
      "(42081001, 2)\n",
      "(42082001, 2)\n",
      "(42083001, 2)\n",
      "(42084001, 2)\n",
      "(42085001, 1)\n",
      "(42086001, 2)\n",
      "(42087001, 2)\n",
      "(42088001, 2)\n",
      "(42089001, 2)\n",
      "(42090001, 1)\n"
     ]
    }
   ],
   "source": [
    "con = lite.connect(r'Grocery.db')\n",
    "cur = con.cursor()\n",
    "\n",
    "cur.execute('SELECT * FROM SourceDimension LIMIT 10')\n",
    "names = [description[0] for description in cur.description]\n",
    "\n",
    "print(names)\n",
    "rows = cur.fetchall()\n",
    "for row in rows:\n",
    "    print(row)\n",
    "\n",
    "con.commit()\n",
    "con.close()"
   ]
  },
  {
   "cell_type": "markdown",
   "metadata": {},
   "source": [
    "## Deliverable 3 \n",
    "\n",
    "Store Dimension Table"
   ]
  },
  {
   "cell_type": "code",
   "execution_count": 40,
   "metadata": {},
   "outputs": [],
   "source": [
    "con = lite.connect(r'Grocery.db')\n",
    "cur = con.cursor()\n",
    "\n",
    "cur.execute('drop table if exists StoreDimension')\n",
    "\n",
    "s = 'CREATE TABLE StoreDimension('\n",
    "s += 'StoreKey INT, StoreManager varchar(50), StoreStreetAddr varchar(50), StoreTown varchar(50),'\n",
    "s += 'StoreZipCode varchar(15), StorePhone varchar(15), StoreState varchar(20))'\n",
    "cur.execute(s)\n",
    "\n",
    "key     = 5\n",
    "manager = 'Vince Purcell'\n",
    "addr    = '5 Main St.'\n",
    "town    = 'Moorestown'\n",
    "zcode   = '08057'\n",
    "phone   = '8568675309'\n",
    "state   = 'NJ'\n",
    "\n",
    "cur.execute(\"INSERT INTO StoreDimension VALUES (?,?,?,?,?,?,?)\", \n",
    "    (key, manager, addr, town, zcode, phone, state))\n",
    "\n",
    "key     = 6\n",
    "manager = 'David Luco'\n",
    "addr    = '1286 N Broad St.'\n",
    "town    = 'Philadelphia'\n",
    "zcode   = '19130'\n",
    "phone   = '2157783490'\n",
    "state   = 'PA'\n",
    "\n",
    "cur.execute(\"INSERT INTO StoreDimension VALUES (?,?,?,?,?,?,?)\", \n",
    "    (key, manager, addr, town, zcode, phone, state))\n",
    "\n",
    "key     = 4\n",
    "manager = 'Kevin Malone'\n",
    "addr    = '16 Main St.'\n",
    "town    = 'Moorestown'\n",
    "zcode   = '08057'\n",
    "phone   = '8562248896'\n",
    "state   = 'NJ'\n",
    "\n",
    "cur.execute(\"INSERT INTO StoreDimension VALUES (?,?,?,?,?,?,?)\", \n",
    "    (key, manager, addr, town, zcode, phone, state))\n",
    "\n",
    "con.commit()\n",
    "con.close()"
   ]
  },
  {
   "cell_type": "code",
   "execution_count": 41,
   "metadata": {},
   "outputs": [
    {
     "name": "stdout",
     "output_type": "stream",
     "text": [
      "['StoreKey', 'StoreManager', 'StoreStreetAddr', 'StoreTown', 'StoreZipCode', 'StorePhone', 'StoreState']\n",
      "(5, 'Vince Purcell', '5 Main St.', 'Moorestown', '08057', '8568675309', 'NJ')\n",
      "(6, 'David Luco', '1286 N Broad St.', 'Philadelphia', '19130', '2157783490', 'PA')\n",
      "(4, 'Kevin Malone', '16 Main St.', 'Moorestown', '08057', '8562248896', 'NJ')\n"
     ]
    }
   ],
   "source": [
    "con = lite.connect(r'Grocery.db')\n",
    "cur = con.cursor()\n",
    "\n",
    "cur.execute('SELECT * FROM StoreDimension LIMIT 10')\n",
    "names = [description[0] for description in cur.description]\n",
    "\n",
    "print(names)\n",
    "rows = cur.fetchall()\n",
    "for row in rows:\n",
    "    print(row)\n",
    "\n",
    "con.commit()\n",
    "con.close()"
   ]
  },
  {
   "cell_type": "markdown",
   "metadata": {},
   "source": [
    "## Deliverable 4\n",
    "\n",
    "Date Dimension Table"
   ]
  },
  {
   "cell_type": "code",
   "execution_count": 42,
   "metadata": {},
   "outputs": [],
   "source": [
    "# Below are lookup dictionaries used during date dimension generation\n",
    "\n",
    "# Searched '2020 Holidays' on Google and these were what was listed\n",
    "holidays = {\n",
    "    date(2020, 1, 1)    : 'New Years Day',\n",
    "    date(2020, 1, 20)   : 'MLK Day',\n",
    "    date(2020, 2, 17)   : 'Washingtons Birthday',\n",
    "    date(2020, 4, 10)   : 'Good Friday',\n",
    "    date(2020, 5, 25)   : 'Memorial Day',\n",
    "    date(2020, 7, 3)    : 'Independence Day',\n",
    "    date(2020, 9, 7)    : 'Labor Day',\n",
    "    date(2020, 10, 12)  : 'Columbus Day',\n",
    "    date(2020, 11, 3)   : 'Election Day',\n",
    "    date(2020, 11, 11)  : 'Veterans Day',\n",
    "    date(2020, 11, 26)  : 'Thanksgiving',\n",
    "    date(2020, 12, 25)  : 'Christmas'\n",
    "}\n",
    "\n",
    "solstice_and_equinox = {\n",
    "    date(2020, 3, 21)  : 'Spring',\n",
    "    date(2020, 6, 21)  : 'Summer',\n",
    "    date(2020, 9, 23)  : 'Fall',\n",
    "    date(2020, 12, 22) : 'Winter',\n",
    "    date(2021, 3, 21)  : 'Spring',\n",
    "}\n",
    "\n",
    "months = {\n",
    "    1  : 'January',\n",
    "    2  : 'February',\n",
    "    3  : 'March',\n",
    "    4  : 'April',\n",
    "    5  : 'May',\n",
    "    6  : 'June',\n",
    "    7  : 'July',\n",
    "    8  : 'August',\n",
    "    9  : 'September',\n",
    "    10 : 'October',\n",
    "    11 : 'November',\n",
    "    12 : 'December'\n",
    "}\n",
    "\n",
    "fiscal_year_end = date(2020,7,31)\n",
    "\n",
    "quarters = {\n",
    "    date(2020, 1, 1)  : 1,\n",
    "    date(2020, 4, 1)  : 2,\n",
    "    date(2020, 7, 1)  : 3,\n",
    "    date(2020, 10, 1) : 4,\n",
    "    date(2021, 1, 1)  : 1\n",
    "}"
   ]
  },
  {
   "cell_type": "code",
   "execution_count": 43,
   "metadata": {},
   "outputs": [
    {
     "name": "stdout",
     "output_type": "stream",
     "text": [
      "Working on Day  20\n",
      "Working on Day  40\n",
      "Working on Day  60\n",
      "Working on Day  80\n",
      "Working on Day  100\n",
      "Working on Day  120\n",
      "Working on Day  140\n",
      "Working on Day  160\n",
      "Working on Day  180\n",
      "Working on Day  200\n",
      "Working on Day  220\n",
      "Working on Day  240\n",
      "Working on Day  260\n",
      "Working on Day  280\n",
      "Working on Day  300\n",
      "Working on Day  320\n",
      "Working on Day  340\n",
      "Working on Day  360\n"
     ]
    }
   ],
   "source": [
    "con = lite.connect(r'Grocery.db')\n",
    "cur = con.cursor()\n",
    "\n",
    "cur.execute('drop table if exists DateDimension')\n",
    "\n",
    "s = 'CREATE TABLE DateDimension('\n",
    "s += 'DateKey INT, Date DATETIME, DayNumberInMonth INT, DayNumberInYear INT, WeekNumberInYear INT, MonthNum INT, '\n",
    "s += 'MonthTxt varchar(20), Quarter INT, Year INT, FiscalYear INT, isHoliday BOOLEAN, isWeekend BOOLEAN, Season varchar(10))'\n",
    "cur.execute(s)\n",
    "\n",
    "simulation_start_date = date(2019, 12, 31)\n",
    "simulation_end_date = date(2020, 12, 31)\n",
    "current_date = simulation_start_date\n",
    "simulation_length = 365\n",
    "\n",
    "key = 0\n",
    "dayNum = 0\n",
    "quarter = 1\n",
    "quarter_index = 0\n",
    "season = 'Winter'\n",
    "season_index = 0\n",
    "\n",
    "fiscalYear = 2019\n",
    "\n",
    "for iday in range(0, simulation_length):\n",
    "    if (( (iday+1) % 20)==0):\n",
    "        print(\"Working on Day \", iday + 1)\n",
    "    current_date += datetime.timedelta(1)\n",
    "    key += 1\n",
    "    dayNum += 1\n",
    "\n",
    "    weekend = False\n",
    "    if current_date.weekday() >= 5:\n",
    "        weekend = True\n",
    "    \n",
    "    if current_date.month == \"1\" and current_date.day == \"1\":\n",
    "        dayNum = 1\n",
    "\n",
    "    if current_date > fiscal_year_end:\n",
    "        fiscalYear = 2020\n",
    "    \n",
    "    if current_date == list(solstice_and_equinox.keys())[season_index]:\n",
    "        season = list(solstice_and_equinox.values())[season_index]\n",
    "        season_index += 1\n",
    "\n",
    "    if current_date == list(quarters.keys())[quarter_index]:\n",
    "        quarter = list(quarters.values())[quarter_index]\n",
    "        quarter_index += 1\n",
    "\n",
    "    weekNum = current_date.isocalendar()[1]\n",
    "    monthNum = current_date.month\n",
    "    monthText = months[monthNum]\n",
    "    isHoliday = current_date in holidays.keys()\n",
    "\n",
    "    cur.execute(\"INSERT INTO DateDimension VALUES (?,?,?,?,?,?,?,?,?,?,?,?,?)\", \n",
    "        (key, current_date, current_date.day, dayNum, weekNum, monthNum, monthText, quarter, current_date.year, fiscalYear, isHoliday, weekend, season))\n",
    "\n",
    "con.commit()\n",
    "con.close()"
   ]
  },
  {
   "cell_type": "code",
   "execution_count": 44,
   "metadata": {},
   "outputs": [
    {
     "name": "stdout",
     "output_type": "stream",
     "text": [
      "['DateKey', 'Date', 'DayNumberInMonth', 'DayNumberInYear', 'WeekNumberInYear', 'MonthNum', 'MonthTxt', 'Quarter', 'Year', 'FiscalYear', 'isHoliday', 'isWeekend', 'Season']\n",
      "(1, '2020-01-01', 1, 1, 1, 1, 'January', 1, 2020, 2019, 1, 0, 'Winter')\n",
      "(2, '2020-01-02', 2, 2, 1, 1, 'January', 1, 2020, 2019, 0, 0, 'Winter')\n",
      "(3, '2020-01-03', 3, 3, 1, 1, 'January', 1, 2020, 2019, 0, 0, 'Winter')\n",
      "(4, '2020-01-04', 4, 4, 1, 1, 'January', 1, 2020, 2019, 0, 1, 'Winter')\n",
      "(5, '2020-01-05', 5, 5, 1, 1, 'January', 1, 2020, 2019, 0, 1, 'Winter')\n",
      "(6, '2020-01-06', 6, 6, 2, 1, 'January', 1, 2020, 2019, 0, 0, 'Winter')\n",
      "(7, '2020-01-07', 7, 7, 2, 1, 'January', 1, 2020, 2019, 0, 0, 'Winter')\n",
      "(8, '2020-01-08', 8, 8, 2, 1, 'January', 1, 2020, 2019, 0, 0, 'Winter')\n",
      "(9, '2020-01-09', 9, 9, 2, 1, 'January', 1, 2020, 2019, 0, 0, 'Winter')\n",
      "(10, '2020-01-10', 10, 10, 2, 1, 'January', 1, 2020, 2019, 0, 0, 'Winter')\n"
     ]
    }
   ],
   "source": [
    "con = lite.connect(r'Grocery.db')\n",
    "cur = con.cursor()\n",
    "\n",
    "cur.execute('SELECT * FROM DateDimension LIMIT 10')\n",
    "names = [description[0] for description in cur.description]\n",
    "\n",
    "print(names)\n",
    "rows = cur.fetchall()\n",
    "for row in rows:\n",
    "    print(row)\n",
    "\n",
    "con.commit()\n",
    "con.close()"
   ]
  },
  {
   "cell_type": "markdown",
   "metadata": {},
   "source": [
    "## Deliverable 6"
   ]
  },
  {
   "cell_type": "code",
   "execution_count": 45,
   "metadata": {},
   "outputs": [
    {
     "name": "stdout",
     "output_type": "stream",
     "text": [
      "736740  rows inserted\n"
     ]
    }
   ],
   "source": [
    "#create/(drop,recreate) table, insert team 5's data into dailyLevel table\n",
    "\n",
    "con = lite.connect(r'Grocery.db')\n",
    "cur = con.cursor()\n",
    "\n",
    "cur.execute('drop table if exists DailyLevelSalesFact')\n",
    "\n",
    "s = 'CREATE TABLE DailyLevelSalesFact('\n",
    "s += 'DateKey INT, ProductKey INT, StoreKey INT, NumSoldToday INT, '\n",
    "s += 'CostOfItemSold FLOAT, SalesTotal FLOAT, GrossProfit FLOAT, SalePrice FLOAT, BasePrice FLOAT)'\n",
    "cur.execute(s)\n",
    "\n",
    "#must create view first for performance reasons (10+min vs 25sec)\n",
    "\n",
    "cur.execute('DROP VIEW IF EXISTS TransactView;')\n",
    "s2  = 'CREATE VIEW TransactView AS '\n",
    "s2 += 'SELECT Transactions2020.*, COUNT(Transactions2020.SKU) AS numberSold, ROUND(SUM(price), 2) AS saletotalSKU, DateKey '\n",
    "s2 += 'FROM Transactions2020 '\n",
    "s2 += 'JOIN DateDimension ON DateDimension.Date = Transactions2020.date_text '\n",
    "s2 += 'GROUP BY date_text, Transactions2020.SKU;'\n",
    "\n",
    "cur.execute(s2)\n",
    "\n",
    "s3 = 'SELECT DateKey, TransactView.SKU, price, numberSold, saletotalSKU, ProductKey, '\n",
    "s3 += 'ROUND((BasePrice * numberSold), 2) as productBasePriceTotal, BasePrice '\n",
    "s3 += 'FROM TransactView '\n",
    "s3 += 'JOIN ProductDimension ON TransactView.SKU = ProductDimension.SKU '\n",
    "s3 += 'GROUP BY DateKey, TransactView.SKU'\n",
    "\n",
    "results = cur.execute(s3)\n",
    "\n",
    "count = 0\n",
    "\n",
    "for row in results.fetchall():\n",
    "    DateKey = row[0]\n",
    "    ProductKey = row[5]\n",
    "    StoreKey = 5\n",
    "    NumSoldToday = row[3]\n",
    "    CostOfItemSold = row[6]\n",
    "    SalesTotal = row[4]\n",
    "    GrossProfit = round((SalesTotal - CostOfItemSold),2)\n",
    "    SalePrice = row[2]\n",
    "    BasePrice = row[7]\n",
    "\n",
    "    count += 1\n",
    "        \n",
    "    InsertDailyVar = 'INSERT INTO DailyLevelSalesFact VALUES (?,?,?,?,?,?,?,?,?)'\n",
    "\n",
    "    cur.execute(InsertDailyVar, (DateKey, ProductKey, StoreKey, NumSoldToday, CostOfItemSold, SalesTotal, \n",
    "                                 GrossProfit, SalePrice, BasePrice))\n",
    "\n",
    "print(count, \" rows inserted\")\n",
    "\n",
    "con.commit()\n",
    "con.close()"
   ]
  },
  {
   "cell_type": "code",
   "execution_count": 46,
   "metadata": {},
   "outputs": [
    {
     "name": "stdout",
     "output_type": "stream",
     "text": [
      "733497  rows inserted\n"
     ]
    }
   ],
   "source": [
    "#Do the same thing for team 4\n",
    "\n",
    "con = lite.connect(r'Grocery.db')\n",
    "cur = con.cursor()\n",
    "\n",
    "\n",
    "#must create view first for performance reasons (10+min vs 25sec)\n",
    "\n",
    "cur.execute('DROP VIEW IF EXISTS TransactView;')\n",
    "s2  = 'CREATE VIEW TransactView AS '\n",
    "s2 += 'SELECT Team4Transactions.*, COUNT(Team4Transactions.SKU) AS numberSold, ROUND(SUM(price), 2) AS saletotalSKU, DateKey '\n",
    "s2 += 'FROM Team4Transactions '\n",
    "s2 += 'JOIN DateDimension ON DateDimension.Date = Team4Transactions.date_text '\n",
    "s2 += 'GROUP BY date_text, Team4Transactions.SKU;'\n",
    "\n",
    "cur.execute(s2)\n",
    "\n",
    "s3 = 'SELECT DateKey, TransactView.SKU, price, numberSold, saletotalSKU, ProductKey, ROUND((BasePrice * numberSold), 2) ' \n",
    "s3 += 'as productBasePriceTotal, BasePrice '\n",
    "s3 += 'FROM TransactView '\n",
    "s3 += 'JOIN ProductDimension ON TransactView.SKU = ProductDimension.SKU '\n",
    "s3 += 'GROUP BY DateKey, TransactView.SKU'\n",
    "\n",
    "results = cur.execute(s3)\n",
    "\n",
    "count = 0\n",
    "\n",
    "for row in results.fetchall():\n",
    "    DateKey = row[0]\n",
    "    ProductKey = row[5]\n",
    "    StoreKey = 4\n",
    "    NumSoldToday = row[3]\n",
    "    CostOfItemSold = row[6]\n",
    "    SalesTotal = row[4]\n",
    "    GrossProfit = round((SalesTotal - CostOfItemSold),2)\n",
    "    SalePrice = row[2]\n",
    "    BasePrice = row[7]\n",
    "    \n",
    "    count += 1\n",
    "        \n",
    "    InsertDailyVar = 'INSERT INTO DailyLevelSalesFact VALUES (?,?,?,?,?,?,?,?,?)'\n",
    "\n",
    "    cur.execute(InsertDailyVar, (DateKey, ProductKey, StoreKey, NumSoldToday, CostOfItemSold, SalesTotal, \n",
    "                                 GrossProfit, SalePrice, BasePrice))\n",
    "\n",
    "print(count, \" rows inserted\")\n",
    "\n",
    "con.commit()\n",
    "con.close()"
   ]
  },
  {
   "cell_type": "code",
   "execution_count": 47,
   "metadata": {},
   "outputs": [
    {
     "name": "stdout",
     "output_type": "stream",
     "text": [
      "735316  rows inserted\n"
     ]
    }
   ],
   "source": [
    "#Do the same thing for team 4\n",
    "\n",
    "con = lite.connect(r'Grocery.db')\n",
    "cur = con.cursor()\n",
    "\n",
    "\n",
    "#must create view first for performance reasons (10+min vs 25sec)\n",
    "\n",
    "cur.execute('DROP VIEW IF EXISTS TransactView;')\n",
    "s2  = 'CREATE VIEW TransactView AS '\n",
    "s2 += 'SELECT Team6Transactions.*, COUNT(Team6Transactions.SKU) AS numberSold, ROUND(SUM(price), 2) AS saletotalSKU, DateKey '\n",
    "s2 += 'FROM Team6Transactions '\n",
    "s2 += 'JOIN DateDimension ON DateDimension.Date = Team6Transactions.date_text '\n",
    "s2 += 'GROUP BY date_text, Team6Transactions.SKU;'\n",
    "\n",
    "cur.execute(s2)\n",
    "\n",
    "s3 = 'SELECT DateKey, TransactView.SKU, price, numberSold, saletotalSKU, ProductKey, ROUND((BasePrice * numberSold), 2) '\n",
    "s3 += 'as productBasePriceTotal, BasePrice '\n",
    "s3 += 'FROM TransactView '\n",
    "s3 += 'JOIN ProductDimension ON TransactView.SKU = ProductDimension.SKU '\n",
    "s3 += 'GROUP BY DateKey, TransactView.SKU'\n",
    "\n",
    "results = cur.execute(s3)\n",
    "\n",
    "count = 0\n",
    "\n",
    "for row in results.fetchall():\n",
    "    DateKey = row[0]\n",
    "    ProductKey = row[5]\n",
    "    StoreKey = 6\n",
    "    NumSoldToday = row[3]\n",
    "    CostOfItemSold = row[6]\n",
    "    SalesTotal = row[4]\n",
    "    GrossProfit = round((SalesTotal - CostOfItemSold),2)\n",
    "    SalePrice = row[2]\n",
    "    BasePrice = row[7]\n",
    "    \n",
    "    count += 1\n",
    "        \n",
    "    InsertDailyVar = 'INSERT INTO DailyLevelSalesFact VALUES (?,?,?,?,?,?,?,?,?)'\n",
    "\n",
    "    cur.execute(InsertDailyVar, (DateKey, ProductKey, StoreKey, NumSoldToday, CostOfItemSold, SalesTotal, \n",
    "                                 GrossProfit, SalePrice, BasePrice))\n",
    "\n",
    "print(count, \" rows inserted\")\n",
    "\n",
    "con.commit()\n",
    "con.close()"
   ]
  },
  {
   "cell_type": "markdown",
   "metadata": {},
   "source": [
    "### Store 5 Daily Sales"
   ]
  },
  {
   "cell_type": "code",
   "execution_count": 48,
   "metadata": {},
   "outputs": [
    {
     "name": "stdout",
     "output_type": "stream",
     "text": [
      "['DateKey', 'ProductKey', 'StoreKey', 'NumSoldToday', 'CostOfItemSold', 'SalesTotal', 'GrossProfit', 'SalePrice', 'BasePrice']\n",
      "(1, 1, 5, 25, 62.25, 74.75, 12.5, 2.99, 2.49)\n",
      "(1, 2, 5, 18, 32.22, 38.7, 6.48, 2.15, 1.79)\n",
      "(1, 3, 5, 17, 67.83, 81.43, 13.6, 4.79, 3.99)\n",
      "(1, 4, 5, 23, 91.77, 110.17, 18.4, 4.79, 3.99)\n",
      "(1, 5, 5, 23, 68.77, 82.57, 13.8, 3.59, 2.99)\n",
      "(1, 6, 5, 13, 26.0, 31.2, 5.2, 2.4, 2.0)\n",
      "(1, 7, 5, 20, 231.8, 278.2, 46.4, 13.91, 11.59)\n",
      "(1, 8, 5, 17, 84.83, 101.83, 17.0, 5.99, 4.99)\n",
      "(1, 9, 5, 23, 82.57, 99.13, 16.56, 4.31, 3.59)\n",
      "(1, 10, 5, 23, 110.17, 132.25, 22.08, 5.75, 4.79)\n"
     ]
    }
   ],
   "source": [
    "con = lite.connect(r'Grocery.db')\n",
    "cur = con.cursor()\n",
    "\n",
    "cur.execute('SELECT * FROM DailyLevelSalesFact WHERE (StoreKey = 5) LIMIT 10')\n",
    "names = [description[0] for description in cur.description]\n",
    "\n",
    "print(names)\n",
    "rows = cur.fetchall()\n",
    "for row in rows:\n",
    "    print(row)\n",
    "\n",
    "con.commit()\n",
    "con.close()"
   ]
  },
  {
   "cell_type": "markdown",
   "metadata": {},
   "source": [
    "### Store 4 Daily Sales"
   ]
  },
  {
   "cell_type": "code",
   "execution_count": 49,
   "metadata": {},
   "outputs": [
    {
     "name": "stdout",
     "output_type": "stream",
     "text": [
      "['DateKey', 'ProductKey', 'StoreKey', 'NumSoldToday', 'CostOfItemSold', 'SalesTotal', 'GrossProfit', 'SalePrice', 'BasePrice']\n",
      "(2, 1, 4, 23, 57.27, 0.0, -57.27, '$7.99', 2.49)\n",
      "(2, 2, 4, 20, 35.8, 0.0, -35.8, '$1.55', 1.79)\n",
      "(2, 3, 4, 28, 111.72, 0.0, -111.72, '$1.49', 3.99)\n",
      "(2, 4, 4, 26, 103.74, 0.0, -103.74, '$3.82', 3.99)\n",
      "(2, 5, 4, 29, 86.71, 0.0, -86.71, '$3.68', 2.99)\n",
      "(2, 6, 4, 16, 32.0, 0.0, -32.0, '$6.99', 2.0)\n",
      "(2, 7, 4, 22, 254.98, 0.0, -254.98, '$1.74', 11.59)\n",
      "(2, 8, 4, 21, 104.79, 0.0, -104.79, '$5.49', 4.99)\n",
      "(2, 9, 4, 27, 96.93, 0.0, -96.93, '$3.83', 3.59)\n",
      "(2, 10, 4, 24, 114.96, 0.0, -114.96, '$3.89', 4.79)\n"
     ]
    }
   ],
   "source": [
    "con = lite.connect(r'Grocery.db')\n",
    "cur = con.cursor()\n",
    "\n",
    "cur.execute('SELECT * FROM DailyLevelSalesFact WHERE (StoreKey = 4) LIMIT 10')\n",
    "names = [description[0] for description in cur.description]\n",
    "\n",
    "print(names)\n",
    "rows = cur.fetchall()\n",
    "for row in rows:\n",
    "    print(row)\n",
    "\n",
    "con.commit()\n",
    "con.close()"
   ]
  },
  {
   "cell_type": "markdown",
   "metadata": {},
   "source": [
    "### Store 6 Daily Sales"
   ]
  },
  {
   "cell_type": "code",
   "execution_count": 50,
   "metadata": {},
   "outputs": [
    {
     "name": "stdout",
     "output_type": "stream",
     "text": [
      "['DateKey', 'ProductKey', 'StoreKey', 'NumSoldToday', 'CostOfItemSold', 'SalesTotal', 'GrossProfit', 'SalePrice', 'BasePrice']\n",
      "(2, 1, 6, 18, 44.82, 44.82, 0.0, 2.49, 2.49)\n",
      "(2, 2, 6, 26, 46.54, 46.54, 0.0, 1.79, 1.79)\n",
      "(2, 3, 6, 21, 83.79, 83.79, 0.0, 3.99, 3.99)\n",
      "(2, 4, 6, 27, 107.73, 107.73, 0.0, 3.99, 3.99)\n",
      "(2, 5, 6, 26, 77.74, 77.74, 0.0, 2.99, 2.99)\n",
      "(2, 6, 6, 24, 48.0, 48.0, 0.0, 2.0, 2.0)\n",
      "(2, 7, 6, 17, 197.03, 197.03, 0.0, 11.59, 11.59)\n",
      "(2, 8, 6, 22, 109.78, 109.78, 0.0, 4.99, 4.99)\n",
      "(2, 9, 6, 20, 71.8, 71.8, 0.0, 3.59, 3.59)\n",
      "(2, 10, 6, 28, 134.12, 134.12, 0.0, 4.79, 4.79)\n"
     ]
    }
   ],
   "source": [
    "con = lite.connect(r'Grocery.db')\n",
    "cur = con.cursor()\n",
    "\n",
    "cur.execute('SELECT * FROM DailyLevelSalesFact WHERE (StoreKey = 6) LIMIT 10')\n",
    "names = [description[0] for description in cur.description]\n",
    "\n",
    "print(names)\n",
    "rows = cur.fetchall()\n",
    "for row in rows:\n",
    "    print(row)\n",
    "\n",
    "con.commit()\n",
    "con.close()"
   ]
  },
  {
   "cell_type": "markdown",
   "metadata": {},
   "source": [
    "## Deliverable 7"
   ]
  },
  {
   "cell_type": "code",
   "execution_count": 51,
   "metadata": {},
   "outputs": [
    {
     "name": "stdout",
     "output_type": "stream",
     "text": [
      "736740  rows inserted\n"
     ]
    }
   ],
   "source": [
    "#create/(drop,recreate) table, insert team 5's data into dailyLevel table\n",
    "\n",
    "con = lite.connect(r'Grocery.db')\n",
    "cur = con.cursor()\n",
    "\n",
    "cur.execute('drop table if exists DailyLevelInventoryFact')\n",
    "\n",
    "s = 'CREATE TABLE DailyLevelInventoryFact('\n",
    "s += 'DateKey INT, ProductKey INT, StoreKey INT, NumAvail INT,'\n",
    "s += 'CostToStoreItem FLOAT, CostToStoreCase FLOAT, CasesPurchasedToDate INT)'\n",
    "cur.execute(s)\n",
    "\n",
    "#must create view first for performance reasons (10+min vs 25sec)\n",
    "\n",
    "cur.execute('DROP VIEW IF EXISTS InventoryView;')\n",
    "s2  = 'CREATE VIEW InventoryView AS '\n",
    "s2 += 'SELECT Transactions2020.*, COUNT(SKU) AS numberSold, DateKey '\n",
    "s2 += 'FROM Transactions2020 '\n",
    "s2 += 'JOIN DateDimension ON DateDimension.Date = Transactions2020.date_text '\n",
    "s2 += 'GROUP BY Transactions2020.SKU, date_text'\n",
    "\n",
    "cur.execute(s2)\n",
    "\n",
    "s3  = 'SELECT DateKey, ProductKey, InventoryView.SKU, numberSold, '\n",
    "s3 += 'ROUND((BasePrice * numberSold), 2) as itemCostToStore, left_in_stock, cases_bought, BasePrice '\n",
    "s3 += 'FROM InventoryView '\n",
    "s3 += 'JOIN ProductDimension ON InventoryView.SKU = ProductDimension.SKU '\n",
    "s3 += 'GROUP BY InventoryView.SKU, DateKey'\n",
    "\n",
    "results = cur.execute(s3)\n",
    "\n",
    "count = 0\n",
    "\n",
    "casesTallyTotal = {}\n",
    "\n",
    "for row in results.fetchall():\n",
    "    DateKey = row[0]\n",
    "    ProductKey = row[1]\n",
    "    StoreKey = 5\n",
    "    NumAvail = row[5]\n",
    "    CostToStoreItem = round(row[4], 2)\n",
    "    CostToStoreCase = round((row[6]*row[7]*12), 2)\n",
    "    CasesPurchasedTD = row[6]\n",
    "    \n",
    "    count += 1\n",
    "        \n",
    "    InsertDailyVar = 'INSERT INTO DailyLevelInventoryFact VALUES (?,?,?,?,?,?,?)'\n",
    "\n",
    "    cur.execute(InsertDailyVar, (DateKey, ProductKey, StoreKey, NumAvail, CostToStoreItem, CostToStoreCase, CasesPurchasedTD))\n",
    "\n",
    "print(count, \" rows inserted\")\n",
    "\n",
    "con.commit()\n",
    "con.close()"
   ]
  },
  {
   "cell_type": "code",
   "execution_count": 52,
   "metadata": {},
   "outputs": [
    {
     "name": "stdout",
     "output_type": "stream",
     "text": [
      "733497  rows inserted\n"
     ]
    }
   ],
   "source": [
    "#repeate for team 4 data\n",
    "con = lite.connect(r'Grocery.db')\n",
    "cur = con.cursor()\n",
    "\n",
    "#must create view first for performance reasons (10+min vs 25sec)\n",
    "\n",
    "cur.execute('DROP VIEW IF EXISTS InventoryView;')\n",
    "s2  = 'CREATE VIEW InventoryView AS '\n",
    "s2 += 'SELECT Team4Transactions.*, COUNT(SKU) AS numberSold, DateKey '\n",
    "s2 += 'FROM Team4Transactions '\n",
    "s2 += 'JOIN DateDimension ON DateDimension.Date = Team4Transactions.date_text '\n",
    "s2 += 'GROUP BY Team4Transactions.SKU, date_text'\n",
    "\n",
    "cur.execute(s2)\n",
    "\n",
    "s3  = 'SELECT DateKey, ProductKey, InventoryView.SKU, numberSold, '\n",
    "s3 += 'ROUND((BasePrice * numberSold), 2) as itemCostToStore, left_in_stock, cases_bought, BasePrice '\n",
    "s3 += 'FROM InventoryView '\n",
    "s3 += 'JOIN ProductDimension ON InventoryView.SKU = ProductDimension.SKU '\n",
    "s3 += 'GROUP BY InventoryView.SKU, DateKey'\n",
    "\n",
    "results = cur.execute(s3)\n",
    "\n",
    "count = 0\n",
    "\n",
    "casesTallyTotal = {}\n",
    "\n",
    "for row in results.fetchall():\n",
    "    DateKey = row[0]\n",
    "    ProductKey = row[1]\n",
    "    StoreKey = 4\n",
    "    NumAvail = row[5]\n",
    "    CostToStoreItem = round(row[4], 2)\n",
    "    CostToStoreCase = round((row[6]*row[7]*12), 2)\n",
    "    CasesPurchasedTD = row[6]\n",
    "    \n",
    "    count += 1\n",
    "        \n",
    "    InsertDailyVar = 'INSERT INTO DailyLevelInventoryFact VALUES (?,?,?,?,?,?,?)'\n",
    "\n",
    "    cur.execute(InsertDailyVar, (DateKey, ProductKey, StoreKey, NumAvail, CostToStoreItem, CostToStoreCase, CasesPurchasedTD))\n",
    "\n",
    "print(count, \" rows inserted\")\n",
    "\n",
    "con.commit()\n",
    "con.close()"
   ]
  },
  {
   "cell_type": "code",
   "execution_count": 53,
   "metadata": {},
   "outputs": [
    {
     "name": "stdout",
     "output_type": "stream",
     "text": [
      "735316  rows inserted\n"
     ]
    }
   ],
   "source": [
    "#repeat for team 6 data\n",
    "con = lite.connect(r'Grocery.db')\n",
    "cur = con.cursor()\n",
    "\n",
    "#must create view first for performance reasons (10+min vs 25sec)\n",
    "\n",
    "cur.execute('DROP VIEW IF EXISTS InventoryView;')\n",
    "s2  = 'CREATE VIEW InventoryView AS '\n",
    "s2 += 'SELECT Team6Transactions.*, COUNT(SKU) AS numberSold, DateKey '\n",
    "s2 += 'FROM Team6Transactions '\n",
    "s2 += 'JOIN DateDimension ON DateDimension.Date = Team6Transactions.date_text '\n",
    "s2 += 'GROUP BY Team6Transactions.SKU, date_text'\n",
    "\n",
    "cur.execute(s2)\n",
    "\n",
    "s3  = 'SELECT DateKey, ProductKey, InventoryView.SKU, numberSold, '\n",
    "s3 += 'ROUND((BasePrice * numberSold), 2) as itemCostToStore, left_in_stock, cases_bought, BasePrice '\n",
    "s3 += 'FROM InventoryView '\n",
    "s3 += 'JOIN ProductDimension ON InventoryView.SKU = ProductDimension.SKU '\n",
    "s3 += 'GROUP BY InventoryView.SKU, DateKey'\n",
    "\n",
    "results = cur.execute(s3)\n",
    "\n",
    "count = 0\n",
    "\n",
    "casesTallyTotal = {}\n",
    "\n",
    "for row in results.fetchall():\n",
    "    DateKey = row[0]\n",
    "    ProductKey = row[1]\n",
    "    StoreKey = 6\n",
    "    NumAvail = row[5]\n",
    "    CostToStoreItem = round(row[4], 2)\n",
    "    CostToStoreCase = round((row[6]*row[7]*12), 2)\n",
    "    CasesPurchasedTD = row[6]\n",
    "    \n",
    "    count += 1\n",
    "        \n",
    "    InsertDailyVar = 'INSERT INTO DailyLevelInventoryFact VALUES (?,?,?,?,?,?,?)'\n",
    "\n",
    "    cur.execute(InsertDailyVar, (DateKey, ProductKey, StoreKey, NumAvail, CostToStoreItem, CostToStoreCase, CasesPurchasedTD))\n",
    "\n",
    "print(count, \" rows inserted\")\n",
    "\n",
    "con.commit()\n",
    "con.close()"
   ]
  },
  {
   "cell_type": "markdown",
   "metadata": {},
   "source": [
    "### Store 5 Daily Inventory"
   ]
  },
  {
   "cell_type": "code",
   "execution_count": 54,
   "metadata": {},
   "outputs": [
    {
     "name": "stdout",
     "output_type": "stream",
     "text": [
      "['DateKey', 'ProductKey', 'StoreKey', 'NumAvail', 'CostToStoreItem', 'CostToStoreCase', 'CasesPurchasedToDate']\n",
      "(1, 1, 5, 83, 62.25, 209.16, 7)\n",
      "(2, 1, 5, 82, 74.7, 268.92, 9)\n",
      "(3, 1, 5, 52, 72.21, 268.92, 9)\n",
      "(4, 1, 5, 83, 84.66, 418.32, 14)\n",
      "(5, 1, 5, 49, 67.23, 418.32, 14)\n",
      "(6, 1, 5, 22, 57.27, 418.32, 14)\n",
      "(7, 1, 5, 83, 57.27, 627.48, 21)\n",
      "(8, 1, 5, 60, 59.76, 627.48, 21)\n",
      "(9, 1, 5, 84, 67.23, 747.0, 25)\n",
      "(10, 1, 5, 57, 69.72, 747.0, 25)\n"
     ]
    }
   ],
   "source": [
    "con = lite.connect(r'Grocery.db')\n",
    "cur = con.cursor()\n",
    "\n",
    "cur.execute('SELECT * FROM DailyLevelInventoryFact WHERE (StoreKey = 5) LIMIT 10')\n",
    "names = [description[0] for description in cur.description]\n",
    "\n",
    "print(names)\n",
    "rows = cur.fetchall()\n",
    "for row in rows:\n",
    "    print(row)\n",
    "\n",
    "con.commit()\n",
    "con.close()"
   ]
  },
  {
   "cell_type": "markdown",
   "metadata": {},
   "source": [
    "### Store 4 Daily Inventory"
   ]
  },
  {
   "cell_type": "code",
   "execution_count": 55,
   "metadata": {},
   "outputs": [
    {
     "name": "stdout",
     "output_type": "stream",
     "text": [
      "['DateKey', 'ProductKey', 'StoreKey', 'NumAvail', 'CostToStoreItem', 'CostToStoreCase', 'CasesPurchasedToDate']\n",
      "(2, 1, 4, 67, 57.27, 0.0, 0)\n",
      "(3, 1, 4, 68, 42.33, 0.0, 0)\n",
      "(4, 1, 4, 51, 34.86, 59.76, 2)\n",
      "(5, 1, 4, 37, 59.76, 89.64, 3)\n",
      "(6, 1, 4, 73, 57.27, 0.0, 0)\n",
      "(7, 1, 4, 50, 47.31, 59.76, 2)\n",
      "(8, 1, 4, 67, 52.29, 0.0, 0)\n",
      "(9, 1, 4, 46, 49.8, 59.76, 2)\n",
      "(10, 1, 4, 74, 37.35, 0.0, 0)\n",
      "(11, 1, 4, 59, 59.76, 29.88, 1)\n"
     ]
    }
   ],
   "source": [
    "con = lite.connect(r'Grocery.db')\n",
    "cur = con.cursor()\n",
    "\n",
    "cur.execute('SELECT * FROM DailyLevelInventoryFact WHERE (StoreKey = 4) LIMIT 10')\n",
    "names = [description[0] for description in cur.description]\n",
    "\n",
    "print(names)\n",
    "rows = cur.fetchall()\n",
    "for row in rows:\n",
    "    print(row)\n",
    "\n",
    "con.commit()\n",
    "con.close()"
   ]
  },
  {
   "cell_type": "markdown",
   "metadata": {},
   "source": [
    "### Store 6 Daily Inventory"
   ]
  },
  {
   "cell_type": "code",
   "execution_count": 56,
   "metadata": {},
   "outputs": [
    {
     "name": "stdout",
     "output_type": "stream",
     "text": [
      "['DateKey', 'ProductKey', 'StoreKey', 'NumAvail', 'CostToStoreItem', 'CostToStoreCase', 'CasesPurchasedToDate']\n",
      "(2, 1, 6, 99, 44.82, 0.0, 0)\n",
      "(3, 1, 6, 81, 57.27, 0.0, 0)\n",
      "(4, 1, 6, 94, 74.7, 89.64, 3)\n",
      "(5, 1, 6, 64, 42.33, 89.64, 3)\n",
      "(6, 1, 6, 47, 54.78, 89.64, 3)\n",
      "(7, 1, 6, 97, 67.23, 268.92, 9)\n",
      "(8, 1, 6, 70, 67.23, 268.92, 9)\n",
      "(9, 1, 6, 103, 49.8, 418.32, 14)\n",
      "(10, 1, 6, 83, 52.29, 418.32, 14)\n",
      "(11, 1, 6, 98, 69.72, 507.96, 17)\n"
     ]
    }
   ],
   "source": [
    "con = lite.connect(r'Grocery.db')\n",
    "cur = con.cursor()\n",
    "\n",
    "cur.execute('SELECT * FROM DailyLevelInventoryFact WHERE (StoreKey = 6) LIMIT 10')\n",
    "names = [description[0] for description in cur.description]\n",
    "\n",
    "print(names)\n",
    "rows = cur.fetchall()\n",
    "for row in rows:\n",
    "    print(row)\n",
    "\n",
    "con.commit()\n",
    "con.close()"
   ]
  },
  {
   "cell_type": "markdown",
   "metadata": {},
   "source": [
    "## Deliverable 8-11"
   ]
  },
  {
   "cell_type": "code",
   "execution_count": 57,
   "metadata": {},
   "outputs": [],
   "source": [
    "def genQuarterlyFactTable(results, cur, StoreKey):\n",
    "    count = 0\n",
    "\n",
    "    CasesTotalYear = {}\n",
    "    CostTotalYear = {}\n",
    "    SoldTotalYear = {}\n",
    "    casesByQuarter = [0,0,0,0,0]\n",
    "    caseIndex = 0\n",
    "\n",
    "    for row in results.fetchall():\n",
    "\n",
    "        Row5 = str(row[5]).replace(\"$\",\"\")\n",
    "        #Since team 4's data came from CSV they have a $ in most of their prices in the DB (while still being a float)\n",
    "        Row5 = float(Row5)\n",
    "\n",
    "        ProductKey = row[0]\n",
    "        QuarterAndYear = ('Quarter ' + str(row[1]) + ', Year ' +  str(row[2]))\n",
    "        QuarterVar = row[1]\n",
    "        YearVar = row[2]\n",
    "\n",
    "        if int(row[1]) == 1:\n",
    "            casesByQuarter = [0,0,0,0,0]\n",
    "        caseIndex = int(row[1])\n",
    "        NumCasesQuart = row[7] - sum(casesByQuarter)\n",
    "        casesByQuarter[caseIndex] = NumCasesQuart\n",
    "\n",
    "        CasesOnHand = round(row[6]/12)\n",
    "        CostToStoreQuart = round((row[3]*row[4]),2)\n",
    "        SoldByStoreQuart = round((Row5*row[4]),2)\n",
    "        \n",
    "        CasesTotalYear = sum(casesByQuarter)\n",
    "\n",
    "        if(row[0] not in CostTotalYear.keys()):\n",
    "            CostTotalYear[row[0]] = round((row[3]*row[4]),2)\n",
    "        else:\n",
    "            CostTotalYear[row[0]] += round((row[3]*row[4]),2)\n",
    "            \n",
    "        if(row[0] not in SoldTotalYear.keys()):\n",
    "            SoldTotalYear[row[0]] = round((Row5*row[4]),2)\n",
    "        else:\n",
    "            SoldTotalYear[row[0]] += round((Row5*row[4]),2)\n",
    "        \n",
    "        count += 1\n",
    "            \n",
    "        InsertDailyVar = 'INSERT INTO QuarterInventoryFact VALUES (?,?,?,?,?,?,?,?,?,?,?,?)'\n",
    "\n",
    "        cur.execute(InsertDailyVar, (ProductKey, StoreKey, QuarterAndYear, QuarterVar, YearVar, CasesTotalYear,\n",
    "                                    NumCasesQuart, CasesOnHand, CostToStoreQuart, SoldByStoreQuart, \n",
    "                                    round(CostTotalYear[row[0]],2), round(SoldTotalYear[row[0]], 2)))\n",
    "        \n",
    "    return count"
   ]
  },
  {
   "cell_type": "code",
   "execution_count": 58,
   "metadata": {},
   "outputs": [
    {
     "name": "stdout",
     "output_type": "stream",
     "text": [
      "8300  rows inserted\n"
     ]
    }
   ],
   "source": [
    "#create/(drop,recreate) table, insert team 5's data into dailyLevel table\n",
    "\n",
    "con = lite.connect(r'Grocery.db')\n",
    "cur = con.cursor()\n",
    "\n",
    "cur.execute('drop table if exists QuarterInventoryFact')\n",
    "\n",
    "s = 'CREATE TABLE QuarterInventoryFact('\n",
    "s += 'ProductKey INT, StoreKey INT, QuarterAndYear VARCHAR(50), Quarter INT, Year INT, CasesPurchToDate INT, '\n",
    "s += 'CasesPurchThisQuart INT, CasesOnHand INT, TotalCostThisQuart FLOAT, TotalSoldByStoreThisQuart FLOAT, '\n",
    "s += 'TotalCostToStoreYTD FLOAT, TotalSoldByStoreYTD FLOAT)'\n",
    "cur.execute(s)\n",
    "\n",
    "#must create view first for performance reasons (10+min vs 25sec)\n",
    "\n",
    "cur.execute('DROP VIEW IF EXISTS InventorySubView;')\n",
    "s2  = 'CREATE VIEW InventorySubView AS '\n",
    "s2 += 'SELECT Transactions2020.*, COUNT(SKU) AS numberSold, Year, Quarter '\n",
    "s2 += 'FROM Transactions2020 '\n",
    "s2 += 'JOIN DateDimension ON DateDimension.Date = Transactions2020.date_text '\n",
    "s2 += 'GROUP BY Transactions2020.SKU, date_text'\n",
    "\n",
    "cur.execute(s2)\n",
    "\n",
    "s3  = 'SELECT ProductDimension.ProductKey, Quarter, Year, BasePrice, '\n",
    "s3 += 'SUM(numberSold) AS TotalSoldQuart, InventorySubView.price, left_in_stock, MAX(cases_bought) AS CasesThisQuart '\n",
    "s3 += 'FROM InventorySubView '\n",
    "s3 += 'JOIN ProductDimension ON ProductDimension.SKU = InventorySubView.SKU '\n",
    "s3 += 'GROUP BY ProductDimension.ProductKey, Quarter '\n",
    "\n",
    "results = cur.execute(s3)\n",
    "\n",
    "count = genQuarterlyFactTable(results, cur, 5)\n",
    "\n",
    "print(count, \" rows inserted\")\n",
    "\n",
    "con.commit()\n",
    "con.close()"
   ]
  },
  {
   "cell_type": "code",
   "execution_count": 59,
   "metadata": {},
   "outputs": [
    {
     "name": "stdout",
     "output_type": "stream",
     "text": [
      "8300  rows inserted\n"
     ]
    }
   ],
   "source": [
    "#repeat for team 4\n",
    "\n",
    "con = lite.connect(r'Grocery.db')\n",
    "cur = con.cursor()\n",
    "\n",
    "#must create view first for performance reasons (10+min vs 25sec)\n",
    "\n",
    "cur.execute('DROP VIEW IF EXISTS InventorySubView;')\n",
    "s2  = 'CREATE VIEW InventorySubView AS '\n",
    "s2 += 'SELECT Team4Transactions.*, COUNT(SKU) AS numberSold, Year, Quarter '\n",
    "s2 += 'FROM Team4Transactions '\n",
    "s2 += 'JOIN DateDimension ON DateDimension.Date = Team4Transactions.date_text '\n",
    "s2 += 'GROUP BY Team4Transactions.SKU, date_text'\n",
    "\n",
    "cur.execute(s2)\n",
    "\n",
    "s3  = 'SELECT ProductDimension.ProductKey, Quarter, Year, BasePrice, '\n",
    "s3 += 'SUM(numberSold) AS TotalSoldQuart, InventorySubView.price, left_in_stock, MAX(cases_bought) AS CasesThisQuart '\n",
    "s3 += 'FROM InventorySubView '\n",
    "s3 += 'JOIN ProductDimension ON ProductDimension.SKU = InventorySubView.SKU '\n",
    "s3 += 'GROUP BY ProductDimension.ProductKey, Quarter '\n",
    "\n",
    "results = cur.execute(s3)\n",
    "\n",
    "count = genQuarterlyFactTable(results, cur, 4)\n",
    "\n",
    "print(count, \" rows inserted\")\n",
    "\n",
    "con.commit()\n",
    "con.close()"
   ]
  },
  {
   "cell_type": "code",
   "execution_count": 60,
   "metadata": {},
   "outputs": [
    {
     "name": "stdout",
     "output_type": "stream",
     "text": [
      "8300  rows inserted\n"
     ]
    }
   ],
   "source": [
    "#repeat for team 6\n",
    "\n",
    "con = lite.connect(r'Grocery.db')\n",
    "cur = con.cursor()\n",
    "\n",
    "#must create view first for performance reasons (10+min vs 25sec)\n",
    "\n",
    "cur.execute('DROP VIEW IF EXISTS InventorySubView;')\n",
    "s2  = 'CREATE VIEW InventorySubView AS '\n",
    "s2 += 'SELECT Team6Transactions.*, COUNT(SKU) AS numberSold, Year, Quarter '\n",
    "s2 += 'FROM Team6Transactions '\n",
    "s2 += 'JOIN DateDimension ON DateDimension.Date = Team6Transactions.date_text '\n",
    "s2 += 'GROUP BY Team6Transactions.SKU, date_text'\n",
    "\n",
    "cur.execute(s2)\n",
    "\n",
    "s3  = 'SELECT ProductDimension.ProductKey, Quarter, Year, BasePrice, '\n",
    "s3 += 'SUM(numberSold) AS TotalSoldQuart, InventorySubView.price, left_in_stock, MAX(cases_bought) AS CasesThisQuart '\n",
    "s3 += 'FROM InventorySubView '\n",
    "s3 += 'JOIN ProductDimension ON ProductDimension.SKU = InventorySubView.SKU '\n",
    "s3 += 'GROUP BY ProductDimension.ProductKey, Quarter '\n",
    "\n",
    "results = cur.execute(s3)\n",
    "\n",
    "count = genQuarterlyFactTable(results, cur, 6)\n",
    "\n",
    "print(count, \" rows inserted\")\n",
    "\n",
    "con.commit()\n",
    "con.close()"
   ]
  },
  {
   "cell_type": "markdown",
   "metadata": {},
   "source": [
    "### Store 5 Quarter Inventory Fact"
   ]
  },
  {
   "cell_type": "code",
   "execution_count": 61,
   "metadata": {},
   "outputs": [
    {
     "name": "stdout",
     "output_type": "stream",
     "text": [
      "['ProductKey', 'StoreKey', 'QuarterAndYear', 'Quarter', 'Year', 'CasesPurchToDate', 'CasesPurchThisQuart', 'CasesOnHand', 'TotalCostThisQuart', 'TotalSoldByStoreThisQuart', 'TotalCostToStoreYTD', 'TotalSoldByStoreYTD']\n",
      "(1, 5, 'Quarter 1, Year 2020', 1, 2020, 194, 194, 7, 5629.89, 6760.39, 5629.89, 6760.39)\n",
      "(1, 5, 'Quarter 2, Year 2020', 2, 2020, 380, 186, 7, 5592.54, 6715.54, 11222.43, 13475.93)\n",
      "(1, 5, 'Quarter 3, Year 2020', 3, 2020, 570, 190, 6, 5689.65, 6832.15, 16912.08, 20308.08)\n",
      "(1, 5, 'Quarter 4, Year 2020', 4, 2020, 749, 179, 6, 5383.38, 6464.38, 22295.46, 26772.46)\n",
      "(2, 5, 'Quarter 1, Year 2020', 1, 2020, 191, 191, 8, 4004.23, 4809.55, 4004.23, 4809.55)\n",
      "(2, 5, 'Quarter 2, Year 2020', 2, 2020, 380, 189, 7, 4048.98, 4863.3, 8053.21, 9672.85)\n",
      "(2, 5, 'Quarter 3, Year 2020', 3, 2020, 563, 183, 4, 3986.33, 4788.05, 12039.54, 14460.9)\n",
      "(2, 5, 'Quarter 4, Year 2020', 4, 2020, 752, 189, 6, 4027.5, 4837.5, 16067.04, 19298.4)\n",
      "(3, 5, 'Quarter 1, Year 2020', 1, 2020, 190, 190, 7, 8885.73, 10667.33, 8885.73, 10667.33)\n",
      "(3, 5, 'Quarter 2, Year 2020', 2, 2020, 374, 184, 7, 8789.97, 10552.37, 17675.7, 21219.7)\n"
     ]
    }
   ],
   "source": [
    "con = lite.connect(r'Grocery.db')\n",
    "cur = con.cursor()\n",
    "\n",
    "cur.execute('SELECT * FROM QuarterInventoryFact WHERE (StoreKey=5) LIMIT 10')\n",
    "names = [description[0] for description in cur.description]\n",
    "\n",
    "print(names)\n",
    "rows = cur.fetchall()\n",
    "for row in rows:\n",
    "    print(row)\n",
    "\n",
    "con.commit()\n",
    "con.close()"
   ]
  },
  {
   "cell_type": "markdown",
   "metadata": {},
   "source": [
    "### Store 4 Quarter Inventory Fact"
   ]
  },
  {
   "cell_type": "code",
   "execution_count": 62,
   "metadata": {},
   "outputs": [
    {
     "name": "stdout",
     "output_type": "stream",
     "text": [
      "['ProductKey', 'StoreKey', 'QuarterAndYear', 'Quarter', 'Year', 'CasesPurchToDate', 'CasesPurchThisQuart', 'CasesOnHand', 'TotalCostThisQuart', 'TotalSoldByStoreThisQuart', 'TotalCostToStoreYTD', 'TotalSoldByStoreYTD']\n",
      "(1, 4, 'Quarter 1, Year 2020', 1, 2020, 5, 5, 1, 4701.12, 5022.08, 4701.12, 5022.08)\n",
      "(1, 4, 'Quarter 2, Year 2020', 2, 2020, 4, -1, 2, 4708.59, 1172.42, 9409.71, 6194.5)\n",
      "(1, 4, 'Quarter 3, Year 2020', 3, 2020, 4, 0, 2, 4613.97, 1445.34, 14023.68, 7639.84)\n",
      "(1, 4, 'Quarter 4, Year 2020', 4, 2020, 5, 1, 1, 4845.54, 11656.54, 18869.22, 19296.38)\n",
      "(2, 4, 'Quarter 1, Year 2020', 1, 2020, 5, 5, 1, 3476.18, 20371.58, 3476.18, 20371.58)\n",
      "(2, 4, 'Quarter 2, Year 2020', 2, 2020, 5, 0, 2, 3436.8, 5740.8, 6912.98, 26112.38)\n",
      "(2, 4, 'Quarter 3, Year 2020', 3, 2020, 5, 0, 2, 3381.31, 6252.59, 10294.29, 32364.97)\n",
      "(2, 4, 'Quarter 4, Year 2020', 4, 2020, 5, 0, 2, 3511.98, 4963.86, 13806.27, 37328.83)\n",
      "(3, 4, 'Quarter 1, Year 2020', 1, 2020, 4, 4, 2, 7309.68, 2436.56, 7309.68, 2436.56)\n",
      "(3, 4, 'Quarter 2, Year 2020', 2, 2020, 5, 1, 2, 7517.16, 9401.16, 14826.84, 11837.72)\n"
     ]
    }
   ],
   "source": [
    "con = lite.connect(r'Grocery.db')\n",
    "cur = con.cursor()\n",
    "\n",
    "cur.execute('SELECT * FROM QuarterInventoryFact WHERE (StoreKey=4) LIMIT 10')\n",
    "names = [description[0] for description in cur.description]\n",
    "\n",
    "print(names)\n",
    "rows = cur.fetchall()\n",
    "for row in rows:\n",
    "    print(row)\n",
    "\n",
    "con.commit()\n",
    "con.close()"
   ]
  },
  {
   "cell_type": "markdown",
   "metadata": {},
   "source": [
    "### Store 6 Quarter Inventory Fact"
   ]
  },
  {
   "cell_type": "code",
   "execution_count": 63,
   "metadata": {},
   "outputs": [
    {
     "name": "stdout",
     "output_type": "stream",
     "text": [
      "['ProductKey', 'StoreKey', 'QuarterAndYear', 'Quarter', 'Year', 'CasesPurchToDate', 'CasesPurchThisQuart', 'CasesOnHand', 'TotalCostThisQuart', 'TotalSoldByStoreThisQuart', 'TotalCostToStoreYTD', 'TotalSoldByStoreYTD']\n",
      "(1, 6, 'Quarter 1, Year 2020', 1, 2020, 177, 177, 8, 5341.05, 5341.05, 5341.05, 5341.05)\n",
      "(1, 6, 'Quarter 2, Year 2020', 2, 2020, 365, 188, 8, 5624.91, 5624.91, 10965.96, 10965.96)\n",
      "(1, 6, 'Quarter 3, Year 2020', 3, 2020, 551, 186, 7, 5585.07, 5585.07, 16551.03, 16551.03)\n",
      "(1, 6, 'Quarter 4, Year 2020', 4, 2020, 727, 176, 7, 5256.39, 5256.39, 21807.42, 21807.42)\n",
      "(2, 6, 'Quarter 1, Year 2020', 1, 2020, 183, 183, 8, 3977.38, 3977.38, 3977.38, 3977.38)\n",
      "(2, 6, 'Quarter 2, Year 2020', 2, 2020, 369, 186, 8, 4000.65, 4000.65, 7978.03, 7978.03)\n",
      "(2, 6, 'Quarter 3, Year 2020', 3, 2020, 551, 182, 6, 3945.16, 3945.16, 11923.19, 11923.19)\n",
      "(2, 6, 'Quarter 4, Year 2020', 4, 2020, 737, 186, 7, 3975.59, 3975.59, 15898.78, 15898.78)\n",
      "(3, 6, 'Quarter 1, Year 2020', 1, 2020, 182, 182, 8, 8797.95, 8797.95, 8797.95, 8797.95)\n",
      "(3, 6, 'Quarter 2, Year 2020', 2, 2020, 371, 189, 8, 9097.2, 9097.2, 17895.15, 17895.15)\n"
     ]
    }
   ],
   "source": [
    "con = lite.connect(r'Grocery.db')\n",
    "cur = con.cursor()\n",
    "\n",
    "cur.execute('SELECT * FROM QuarterInventoryFact WHERE (StoreKey=6) LIMIT 10')\n",
    "names = [description[0] for description in cur.description]\n",
    "\n",
    "print(names)\n",
    "rows = cur.fetchall()\n",
    "for row in rows:\n",
    "    print(row)\n",
    "\n",
    "con.commit()\n",
    "con.close()"
   ]
  }
 ],
 "metadata": {
  "interpreter": {
   "hash": "8701f80c374d04af0e91f6be4c5e64730e695461425753d44c3710c84263da43"
  },
  "kernelspec": {
   "display_name": "Python 3",
   "language": "python",
   "name": "python3"
  },
  "language_info": {
   "codemirror_mode": {
    "name": "ipython",
    "version": 3
   },
   "file_extension": ".py",
   "mimetype": "text/x-python",
   "name": "python",
   "nbconvert_exporter": "python",
   "pygments_lexer": "ipython3",
   "version": "3.8.7"
  }
 },
 "nbformat": 4,
 "nbformat_minor": 2
}
