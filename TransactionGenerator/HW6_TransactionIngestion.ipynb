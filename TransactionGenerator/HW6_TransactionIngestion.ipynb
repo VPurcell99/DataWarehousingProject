{
 "cells": [
  {
   "cell_type": "markdown",
   "metadata": {},
   "source": [
    "# Teams 4,5,6 - HW6 - 6 Month Transaction\n",
    "Data Warehousing - Fall 21\n",
    "\n",
    "Team 4:\n",
    "Team 5: Vince Purcell, Brandon Mondile\n",
    "Team 6:"
   ]
  },
  {
   "cell_type": "code",
   "execution_count": null,
   "metadata": {},
   "outputs": [],
   "source": []
  }
 ],
 "metadata": {
  "language_info": {
   "name": "python"
  },
  "orig_nbformat": 4
 },
 "nbformat": 4,
 "nbformat_minor": 2
}
